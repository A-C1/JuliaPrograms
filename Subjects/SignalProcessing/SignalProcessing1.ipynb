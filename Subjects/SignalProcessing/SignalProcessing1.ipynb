{
 "cells": [
  {
   "cell_type": "code",
   "execution_count": 15,
   "id": "67844904",
   "metadata": {},
   "outputs": [
    {
     "data": {
      "text/plain": [
       "-2.000000000000001 + 5.0im"
      ]
     },
     "execution_count": 15,
     "metadata": {},
     "output_type": "execute_result"
    }
   ],
   "source": [
    "z = 2+ 5im\n",
    "abs(z)\n",
    "angle(z)\n",
    "cart2pol(x, y) = hypot(x, y), atan(y, x)\n",
    "pol2cart(r,θ) = r*cos(θ) + r*sin(θ)*1im\n",
    "r, θ = cart2pol(-2,5)\n",
    "pol2cart(r, θ)"
   ]
  },
  {
   "cell_type": "code",
   "execution_count": 9,
   "id": "a00c2e13",
   "metadata": {},
   "outputs": [
    {
     "data": {
      "text/plain": [
       "0.7853981633974483"
      ]
     },
     "execution_count": 9,
     "metadata": {},
     "output_type": "execute_result"
    }
   ],
   "source": [
    "atan(1)"
   ]
  },
  {
   "cell_type": "code",
   "execution_count": null,
   "id": "b28d0a8e",
   "metadata": {},
   "outputs": [],
   "source": []
  }
 ],
 "metadata": {
  "kernelspec": {
   "display_name": "Julia 1.6.1",
   "language": "julia",
   "name": "julia-1.6"
  },
  "language_info": {
   "file_extension": ".jl",
   "mimetype": "application/julia",
   "name": "julia",
   "version": "1.6.1"
  }
 },
 "nbformat": 4,
 "nbformat_minor": 5
}
