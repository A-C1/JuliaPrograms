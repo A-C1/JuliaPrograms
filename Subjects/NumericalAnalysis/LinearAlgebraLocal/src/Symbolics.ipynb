{
 "cells": [
  {
   "cell_type": "code",
   "execution_count": 4,
   "metadata": {},
   "outputs": [
    {
     "data": {
      "text/plain": [
       "1-element Vector{Symbolics.Arr{Num, 2}}:\n",
       " a[1:3,1:3]"
      ]
     },
     "metadata": {},
     "output_type": "display_data"
    }
   ],
   "source": [
    "using Symbolics\n",
    "\n",
    "@variables a[1:3, 1:3]\n"
   ]
  },
  {
   "cell_type": "code",
   "execution_count": 5,
   "metadata": {},
   "outputs": [
    {
     "data": {
      "text/plain": [
       "3×3 Matrix{Num}:\n",
       " a[1, 1]  a[1, 2]  a[1, 3]\n",
       " a[2, 1]  a[2, 2]  a[2, 3]\n",
       " a[3, 1]  a[3, 1]  a[3, 3]"
      ]
     },
     "metadata": {},
     "output_type": "display_data"
    }
   ],
   "source": [
    "A = [a[1,1] a[1,2] a[1,3]\n",
    "    a[2,1] a[2,2] a[2,3]\n",
    "    a[3,1] a[3,1] a[3,3]]"
   ]
  },
  {
   "cell_type": "code",
   "execution_count": 6,
   "metadata": {},
   "outputs": [
    {
     "data": {
      "text/plain": [
       "3×3 Matrix{Num}:\n",
       "                   a[1, 1]^2 + a[1, 2]^2 + a[1, 3]^2  …  a[1, 1]*a[3, 1] + a[1, 2]*a[3, 1] + a[1, 3]*a[3, 3]\n",
       " a[1, 1]*a[2, 1] + a[1, 2]*a[2, 2] + a[1, 3]*a[2, 3]     a[2, 1]*a[3, 1] + a[2, 2]*a[3, 1] + a[2, 3]*a[3, 3]\n",
       " a[1, 1]*a[3, 1] + a[1, 2]*a[3, 1] + a[1, 3]*a[3, 3]                                2(a[3, 1]^2) + a[3, 3]^2"
      ]
     },
     "metadata": {},
     "output_type": "display_data"
    }
   ],
   "source": [
    "A*A'"
   ]
  },
  {
   "cell_type": "code",
   "execution_count": null,
   "metadata": {},
   "outputs": [],
   "source": []
  }
 ],
 "metadata": {
  "kernelspec": {
   "display_name": "Julia 1.9.0-beta2",
   "language": "julia",
   "name": "julia-1.9"
  },
  "language_info": {
   "file_extension": ".jl",
   "mimetype": "application/julia",
   "name": "julia",
   "version": "1.9.0-beta2"
  },
  "orig_nbformat": 4
 },
 "nbformat": 4,
 "nbformat_minor": 2
}
