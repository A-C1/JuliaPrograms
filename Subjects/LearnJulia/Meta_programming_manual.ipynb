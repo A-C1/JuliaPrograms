{
 "cells": [
  {
   "cell_type": "code",
   "execution_count": 1,
   "id": "0ab28863",
   "metadata": {},
   "outputs": [
    {
     "data": {
      "text/plain": [
       "\"1+1\""
      ]
     },
     "metadata": {},
     "output_type": "display_data"
    }
   ],
   "source": [
    "prog = \"1+1\""
   ]
  },
  {
   "cell_type": "code",
   "execution_count": 2,
   "id": "ecd69ed7",
   "metadata": {},
   "outputs": [
    {
     "data": {
      "text/plain": [
       ":(1 + 1)"
      ]
     },
     "metadata": {},
     "output_type": "display_data"
    }
   ],
   "source": [
    "ex1 = Meta.parse(prog)"
   ]
  },
  {
   "cell_type": "code",
   "execution_count": 3,
   "id": "8a3b0707",
   "metadata": {},
   "outputs": [
    {
     "data": {
      "text/plain": [
       "Expr"
      ]
     },
     "execution_count": 3,
     "metadata": {},
     "output_type": "execute_result"
    }
   ],
   "source": [
    "typeof(ex1)"
   ]
  },
  {
   "cell_type": "code",
   "execution_count": 4,
   "id": "faae117f",
   "metadata": {},
   "outputs": [
    {
     "data": {
      "text/plain": [
       ":call"
      ]
     },
     "execution_count": 4,
     "metadata": {},
     "output_type": "execute_result"
    }
   ],
   "source": [
    "ex1.head"
   ]
  },
  {
   "cell_type": "code",
   "execution_count": 5,
   "id": "413d6a5b",
   "metadata": {},
   "outputs": [
    {
     "data": {
      "text/plain": [
       "3-element Vector{Any}:\n",
       "  :+\n",
       " 1\n",
       " 1"
      ]
     },
     "execution_count": 5,
     "metadata": {},
     "output_type": "execute_result"
    }
   ],
   "source": [
    "ex1.args"
   ]
  },
  {
   "cell_type": "code",
   "execution_count": 6,
   "id": "f4e85eb5",
   "metadata": {},
   "outputs": [
    {
     "data": {
      "text/plain": [
       ":(1 + 1)"
      ]
     },
     "execution_count": 6,
     "metadata": {},
     "output_type": "execute_result"
    }
   ],
   "source": [
    "ex2 = Expr(:call, :+, 1, 1)"
   ]
  },
  {
   "cell_type": "code",
   "execution_count": 7,
   "id": "f4de19b3",
   "metadata": {},
   "outputs": [
    {
     "data": {
      "text/plain": [
       "true"
      ]
     },
     "execution_count": 7,
     "metadata": {},
     "output_type": "execute_result"
    }
   ],
   "source": [
    "ex1 == ex2"
   ]
  },
  {
   "cell_type": "code",
   "execution_count": 9,
   "id": "43d07545",
   "metadata": {},
   "outputs": [
    {
     "name": "stdout",
     "output_type": "stream",
     "text": [
      "Expr\n",
      "  head: Symbol call\n",
      "  args: Array{Any}((3,))\n",
      "    1: Symbol +\n",
      "    2: Int64 1\n",
      "    3: Int64 1\n"
     ]
    }
   ],
   "source": [
    "dump(ex2)"
   ]
  },
  {
   "cell_type": "code",
   "execution_count": 10,
   "id": "acd31a9b",
   "metadata": {},
   "outputs": [
    {
     "data": {
      "text/plain": [
       ":((4 + 4) / 2)"
      ]
     },
     "execution_count": 10,
     "metadata": {},
     "output_type": "execute_result"
    }
   ],
   "source": [
    "ex3 = Meta.parse(\"(4+4)/2\")"
   ]
  },
  {
   "cell_type": "code",
   "execution_count": 12,
   "id": "749621cb",
   "metadata": {},
   "outputs": [
    {
     "name": "stdout",
     "output_type": "stream",
     "text": [
      "(:call, :/, (:call, :+, 4, 4), 2)"
     ]
    }
   ],
   "source": [
    "Meta.show_sexpr(ex3)"
   ]
  },
  {
   "cell_type": "code",
   "execution_count": 13,
   "id": "fdb7513a",
   "metadata": {},
   "outputs": [
    {
     "data": {
      "text/plain": [
       ":foo"
      ]
     },
     "execution_count": 13,
     "metadata": {},
     "output_type": "execute_result"
    }
   ],
   "source": [
    "s = :foo"
   ]
  },
  {
   "cell_type": "code",
   "execution_count": 14,
   "id": "f079b341",
   "metadata": {},
   "outputs": [
    {
     "data": {
      "text/plain": [
       "Symbol"
      ]
     },
     "execution_count": 14,
     "metadata": {},
     "output_type": "execute_result"
    }
   ],
   "source": [
    "typeof(s)"
   ]
  },
  {
   "cell_type": "code",
   "execution_count": 16,
   "id": "5880e998",
   "metadata": {},
   "outputs": [
    {
     "data": {
      "text/plain": [
       "true"
      ]
     },
     "execution_count": 16,
     "metadata": {},
     "output_type": "execute_result"
    }
   ],
   "source": [
    ":foo == Symbol(\"foo\")"
   ]
  },
  {
   "cell_type": "code",
   "execution_count": 17,
   "id": "cdb0af17",
   "metadata": {},
   "outputs": [
    {
     "data": {
      "text/plain": [
       ":var_sym"
      ]
     },
     "execution_count": 17,
     "metadata": {},
     "output_type": "execute_result"
    }
   ],
   "source": [
    "Symbol(:var,'_',:sym)"
   ]
  },
  {
   "cell_type": "code",
   "execution_count": 18,
   "id": "8fdfa83b",
   "metadata": {},
   "outputs": [
    {
     "data": {
      "text/plain": [
       ":(:)"
      ]
     },
     "execution_count": 18,
     "metadata": {},
     "output_type": "execute_result"
    }
   ],
   "source": [
    ":(:)"
   ]
  },
  {
   "cell_type": "code",
   "execution_count": 7,
   "id": "ebaad8df",
   "metadata": {},
   "outputs": [
    {
     "data": {
      "text/plain": [
       "Symbol"
      ]
     },
     "metadata": {},
     "output_type": "display_data"
    }
   ],
   "source": [
    "ex = :(::)\n",
    "typeof(ex)"
   ]
  },
  {
   "cell_type": "markdown",
   "id": "4bf71feb",
   "metadata": {},
   "source": [
    "Expressions and evalaution"
   ]
  },
  {
   "cell_type": "code",
   "execution_count": 20,
   "id": "4ed84349",
   "metadata": {},
   "outputs": [
    {
     "data": {
      "text/plain": [
       ":(a + b * c + 1)"
      ]
     },
     "execution_count": 20,
     "metadata": {},
     "output_type": "execute_result"
    }
   ],
   "source": [
    "ex = :(a+b*c+1)"
   ]
  },
  {
   "cell_type": "code",
   "execution_count": 21,
   "id": "f4e55c80",
   "metadata": {},
   "outputs": [
    {
     "name": "stdout",
     "output_type": "stream",
     "text": [
      "Expr\n",
      "  head: Symbol call\n",
      "  args: Array{Any}((4,))\n",
      "    1: Symbol +\n",
      "    2: Symbol a\n",
      "    3: Expr\n",
      "      head: Symbol call\n",
      "      args: Array{Any}((3,))\n",
      "        1: Symbol *\n",
      "        2: Symbol b\n",
      "        3: Symbol c\n",
      "    4: Int64 1\n"
     ]
    }
   ],
   "source": [
    "dump(ex)"
   ]
  },
  {
   "cell_type": "code",
   "execution_count": 22,
   "id": "9488c476",
   "metadata": {},
   "outputs": [
    {
     "data": {
      "text/plain": [
       ":(1 + b * c + 1)"
      ]
     },
     "execution_count": 22,
     "metadata": {},
     "output_type": "execute_result"
    }
   ],
   "source": [
    "a = 1\n",
    "ex = :($a + b*c +1)"
   ]
  },
  {
   "cell_type": "code",
   "execution_count": 23,
   "id": "8f7b2bc6",
   "metadata": {},
   "outputs": [
    {
     "data": {
      "text/plain": [
       "quote\n",
       "    #= In[23]:2 =#\n",
       "    x = 1\n",
       "    #= In[23]:3 =#\n",
       "    y = 2\n",
       "    #= In[23]:4 =#\n",
       "    x + y\n",
       "end"
      ]
     },
     "execution_count": 23,
     "metadata": {},
     "output_type": "execute_result"
    }
   ],
   "source": [
    "ex = quote \n",
    "    x = 1\n",
    "    y = 2\n",
    "    x+y\n",
    "end"
   ]
  },
  {
   "cell_type": "code",
   "execution_count": 24,
   "id": "07271700",
   "metadata": {},
   "outputs": [
    {
     "data": {
      "text/plain": [
       ":(1 + b)"
      ]
     },
     "execution_count": 24,
     "metadata": {},
     "output_type": "execute_result"
    }
   ],
   "source": [
    "a = 1\n",
    "ex= :($a + b)"
   ]
  },
  {
   "cell_type": "code",
   "execution_count": 25,
   "id": "c8229dad",
   "metadata": {},
   "outputs": [
    {
     "ename": "LoadError",
     "evalue": "syntax: \"$\" expression outside quote around In[25]:1",
     "output_type": "error",
     "traceback": [
      "syntax: \"$\" expression outside quote around In[25]:1",
      "",
      "Stacktrace:",
      " [1] top-level scope",
      "   @ In[25]:1",
      " [2] eval",
      "   @ .\\boot.jl:360 [inlined]",
      " [3] include_string(mapexpr::typeof(REPL.softscope), mod::Module, code::String, filename::String)",
      "   @ Base .\\loading.jl:1094"
     ]
    }
   ],
   "source": [
    "$a + b"
   ]
  },
  {
   "cell_type": "code",
   "execution_count": 27,
   "id": "7f9e8299",
   "metadata": {},
   "outputs": [
    {
     "data": {
      "text/plain": [
       ":(f(1, x, y, z))"
      ]
     },
     "execution_count": 27,
     "metadata": {},
     "output_type": "execute_result"
    }
   ],
   "source": [
    "args = [:x, :y, :z]\n",
    ":(f(1, $(args...)))\n"
   ]
  },
  {
   "cell_type": "code",
   "execution_count": 28,
   "id": "e8068470",
   "metadata": {},
   "outputs": [
    {
     "data": {
      "text/plain": [
       ":(1 + 2)"
      ]
     },
     "execution_count": 28,
     "metadata": {},
     "output_type": "execute_result"
    }
   ],
   "source": [
    "x = :(1+2)\n"
   ]
  },
  {
   "cell_type": "code",
   "execution_count": 29,
   "id": "a1a46588",
   "metadata": {},
   "outputs": [
    {
     "data": {
      "text/plain": [
       "quote\n",
       "    #= In[29]:1 =#\n",
       "    $(Expr(:quote, quote\n",
       "    #= In[29]:1 =#\n",
       "    $(Expr(:$, :x))\n",
       "end))\n",
       "end"
      ]
     },
     "execution_count": 29,
     "metadata": {},
     "output_type": "execute_result"
    }
   ],
   "source": [
    "e = quote quote $x end end"
   ]
  },
  {
   "cell_type": "code",
   "execution_count": 32,
   "id": "20b12b5a",
   "metadata": {},
   "outputs": [
    {
     "data": {
      "text/plain": [
       "3"
      ]
     },
     "execution_count": 32,
     "metadata": {},
     "output_type": "execute_result"
    }
   ],
   "source": [
    "eval(eval(e))"
   ]
  },
  {
   "cell_type": "code",
   "execution_count": 34,
   "id": "5bad839c",
   "metadata": {},
   "outputs": [
    {
     "name": "stdout",
     "output_type": "stream",
     "text": [
      "Expr\n",
      "  head: Symbol quote\n",
      "  args: Array{Any}((1,))\n",
      "    1: Expr\n",
      "      head: Symbol call\n",
      "      args: Array{Any}((3,))\n",
      "        1: Symbol +\n",
      "        2: Int64 1\n",
      "        3: Int64 2\n"
     ]
    }
   ],
   "source": [
    "dump(Meta.parse(\":(1+2)\"))\n",
    "\n"
   ]
  },
  {
   "cell_type": "code",
   "execution_count": 36,
   "id": "c6cbbd13",
   "metadata": {},
   "outputs": [
    {
     "name": "stdout",
     "output_type": "stream",
     "text": [
      "Expr\n",
      "  head: Symbol quote\n",
      "  args: Array{Any}((1,))\n",
      "    1: Expr\n",
      "      head: Symbol call\n",
      "      args: Array{Any}((3,))\n",
      "        1: Symbol +\n",
      "        2: Int64 1\n",
      "        3: Int64 2\n"
     ]
    }
   ],
   "source": [
    "a =  :(:(1+2))\n",
    "dump(a)"
   ]
  },
  {
   "cell_type": "code",
   "execution_count": 37,
   "id": "b53972ff",
   "metadata": {},
   "outputs": [
    {
     "data": {
      "text/plain": [
       ":(1 + 2)"
      ]
     },
     "execution_count": 37,
     "metadata": {},
     "output_type": "execute_result"
    }
   ],
   "source": [
    "ex1 = :(1+2)"
   ]
  },
  {
   "cell_type": "code",
   "execution_count": 38,
   "id": "877edd54",
   "metadata": {},
   "outputs": [
    {
     "data": {
      "text/plain": [
       "3"
      ]
     },
     "execution_count": 38,
     "metadata": {},
     "output_type": "execute_result"
    }
   ],
   "source": [
    "eval(ex1)"
   ]
  },
  {
   "cell_type": "code",
   "execution_count": 39,
   "id": "f59fe5cb",
   "metadata": {},
   "outputs": [
    {
     "data": {
      "text/plain": [
       ":(a + b)"
      ]
     },
     "execution_count": 39,
     "metadata": {},
     "output_type": "execute_result"
    }
   ],
   "source": [
    "ex = :(a+b)"
   ]
  },
  {
   "cell_type": "code",
   "execution_count": 40,
   "id": "cb732da4",
   "metadata": {},
   "outputs": [
    {
     "name": "stdout",
     "output_type": "stream",
     "text": [
      "Expr\n",
      "  head: Symbol call\n",
      "  args: Array{Any}((3,))\n",
      "    1: Symbol +\n",
      "    2: Symbol a\n",
      "    3: Symbol b\n"
     ]
    }
   ],
   "source": [
    "dump(ex)"
   ]
  },
  {
   "cell_type": "code",
   "execution_count": 41,
   "id": "72547b00",
   "metadata": {},
   "outputs": [
    {
     "ename": "LoadError",
     "evalue": "UndefVarError: b not defined",
     "output_type": "error",
     "traceback": [
      "UndefVarError: b not defined",
      "",
      "Stacktrace:",
      " [1] top-level scope",
      "   @ none:1",
      " [2] eval",
      "   @ .\\boot.jl:360 [inlined]",
      " [3] eval(x::Expr)",
      "   @ Base.MainInclude .\\client.jl:446",
      " [4] top-level scope",
      "   @ In[41]:1",
      " [5] eval",
      "   @ .\\boot.jl:360 [inlined]",
      " [6] include_string(mapexpr::typeof(REPL.softscope), mod::Module, code::String, filename::String)",
      "   @ Base .\\loading.jl:1094"
     ]
    }
   ],
   "source": [
    "eval(ex)"
   ]
  },
  {
   "cell_type": "code",
   "execution_count": 42,
   "id": "48b90cbf",
   "metadata": {},
   "outputs": [
    {
     "data": {
      "text/plain": [
       "3"
      ]
     },
     "execution_count": 42,
     "metadata": {},
     "output_type": "execute_result"
    }
   ],
   "source": [
    "a = 1; b = 2;\n",
    "eval(ex)"
   ]
  },
  {
   "cell_type": "code",
   "execution_count": 43,
   "id": "cd977322",
   "metadata": {},
   "outputs": [
    {
     "data": {
      "text/plain": [
       ":(x = 1)"
      ]
     },
     "execution_count": 43,
     "metadata": {},
     "output_type": "execute_result"
    }
   ],
   "source": [
    "ex = :(x=1)\n"
   ]
  },
  {
   "cell_type": "code",
   "execution_count": 44,
   "id": "0b16ffdd",
   "metadata": {},
   "outputs": [
    {
     "data": {
      "text/plain": [
       ":(1 + 2)"
      ]
     },
     "execution_count": 44,
     "metadata": {},
     "output_type": "execute_result"
    }
   ],
   "source": [
    "x\n"
   ]
  },
  {
   "cell_type": "code",
   "execution_count": 47,
   "id": "cdd19492",
   "metadata": {},
   "outputs": [
    {
     "data": {
      "text/plain": [
       "1"
      ]
     },
     "execution_count": 47,
     "metadata": {},
     "output_type": "execute_result"
    }
   ],
   "source": [
    "eval(ex)"
   ]
  },
  {
   "cell_type": "code",
   "execution_count": 48,
   "id": "b806204c",
   "metadata": {},
   "outputs": [
    {
     "data": {
      "text/plain": [
       "1"
      ]
     },
     "execution_count": 48,
     "metadata": {},
     "output_type": "execute_result"
    }
   ],
   "source": [
    "x\n"
   ]
  },
  {
   "cell_type": "code",
   "execution_count": 49,
   "id": "0a64ca71",
   "metadata": {},
   "outputs": [
    {
     "data": {
      "text/plain": [
       ":(1 + b)"
      ]
     },
     "execution_count": 49,
     "metadata": {},
     "output_type": "execute_result"
    }
   ],
   "source": [
    "a = 1;\n",
    "ex =  Expr(:call, :+, a, :b)"
   ]
  },
  {
   "cell_type": "code",
   "execution_count": 50,
   "id": "da57d391",
   "metadata": {},
   "outputs": [
    {
     "data": {
      "text/plain": [
       "2"
      ]
     },
     "execution_count": 50,
     "metadata": {},
     "output_type": "execute_result"
    }
   ],
   "source": [
    "a = 0; b= 2\n"
   ]
  },
  {
   "cell_type": "code",
   "execution_count": 51,
   "id": "63b988c5",
   "metadata": {},
   "outputs": [
    {
     "data": {
      "text/plain": [
       "1"
      ]
     },
     "execution_count": 51,
     "metadata": {},
     "output_type": "execute_result"
    }
   ],
   "source": [
    "eval(x)"
   ]
  },
  {
   "cell_type": "code",
   "execution_count": 52,
   "id": "a86e4eca",
   "metadata": {},
   "outputs": [
    {
     "data": {
      "text/plain": [
       "math_expr (generic function with 1 method)"
      ]
     },
     "execution_count": 52,
     "metadata": {},
     "output_type": "execute_result"
    }
   ],
   "source": [
    "function math_expr(op, op1, op2)\n",
    "    expr = Expr(:call, op, op1, op2)\n",
    "    return expr\n",
    "end"
   ]
  },
  {
   "cell_type": "code",
   "execution_count": 53,
   "id": "2f444de9",
   "metadata": {},
   "outputs": [
    {
     "data": {
      "text/plain": [
       ":(1 + 4 * 5)"
      ]
     },
     "execution_count": 53,
     "metadata": {},
     "output_type": "execute_result"
    }
   ],
   "source": [
    "ex = math_expr(:+, 1, Expr(:call, :*, 4, 5))"
   ]
  },
  {
   "cell_type": "code",
   "execution_count": 55,
   "id": "1949a822",
   "metadata": {},
   "outputs": [
    {
     "data": {
      "text/plain": [
       "21"
      ]
     },
     "execution_count": 55,
     "metadata": {},
     "output_type": "execute_result"
    }
   ],
   "source": [
    "eval(ex)"
   ]
  },
  {
   "cell_type": "markdown",
   "id": "f6d0498a",
   "metadata": {},
   "source": [
    "maCROS"
   ]
  },
  {
   "cell_type": "code",
   "execution_count": 62,
   "id": "d85f924e",
   "metadata": {},
   "outputs": [
    {
     "data": {
      "text/plain": [
       "@sayhello (macro with 1 method)"
      ]
     },
     "execution_count": 62,
     "metadata": {},
     "output_type": "execute_result"
    }
   ],
   "source": [
    "macro sayhello()\n",
    "    return :(println(\"Hello world\"))\n",
    "end"
   ]
  },
  {
   "cell_type": "code",
   "execution_count": 63,
   "id": "8d1f80e8",
   "metadata": {},
   "outputs": [
    {
     "name": "stdout",
     "output_type": "stream",
     "text": [
      "Hello world\n"
     ]
    }
   ],
   "source": [
    "@sayhello()\n"
   ]
  },
  {
   "cell_type": "code",
   "execution_count": 64,
   "id": "7ea84b60",
   "metadata": {},
   "outputs": [
    {
     "data": {
      "text/plain": [
       "@sayhello (macro with 2 methods)"
      ]
     },
     "execution_count": 64,
     "metadata": {},
     "output_type": "execute_result"
    }
   ],
   "source": [
    "macro sayhello(name)\n",
    "    return :(println(\"Hello, \", $name))\n",
    "end"
   ]
  },
  {
   "cell_type": "code",
   "execution_count": 66,
   "id": "4cd7cbb2",
   "metadata": {},
   "outputs": [
    {
     "name": "stdout",
     "output_type": "stream",
     "text": [
      "Hello, Aditya\n"
     ]
    }
   ],
   "source": [
    "@sayhello(\"Aditya\")"
   ]
  },
  {
   "cell_type": "code",
   "execution_count": 68,
   "id": "4dfd71c7",
   "metadata": {},
   "outputs": [
    {
     "data": {
      "text/plain": [
       ":(Main.println(\"Hello, \", \"human\"))"
      ]
     },
     "execution_count": 68,
     "metadata": {},
     "output_type": "execute_result"
    }
   ],
   "source": [
    "wx =  macroexpand(Main, :(@sayhello(\"human\")))"
   ]
  },
  {
   "cell_type": "code",
   "execution_count": 69,
   "id": "ad0df516",
   "metadata": {},
   "outputs": [
    {
     "data": {
      "text/plain": [
       ":(Main.println(\"Hello, \", \"human\"))"
      ]
     },
     "execution_count": 69,
     "metadata": {},
     "output_type": "execute_result"
    }
   ],
   "source": [
    "@macroexpand @sayhello \"human\""
   ]
  },
  {
   "cell_type": "code",
   "execution_count": 70,
   "id": "36761169",
   "metadata": {},
   "outputs": [
    {
     "data": {
      "text/plain": [
       "@twosetp (macro with 1 method)"
      ]
     },
     "execution_count": 70,
     "metadata": {},
     "output_type": "execute_result"
    }
   ],
   "source": [
    "macro twosetp(arg)\n",
    "    println(\"I execute at parse time. The argument is: \", arg)\n",
    "    return :(println(\"I execute at runtime. The argument is:\") $arg)\n",
    "end"
   ]
  },
  {
   "cell_type": "code",
   "execution_count": 72,
   "id": "8d9d10c7",
   "metadata": {},
   "outputs": [
    {
     "name": "stdout",
     "output_type": "stream",
     "text": [
      "I execute at parse time. The argument is: :((1, 2, 3))\n"
     ]
    },
    {
     "data": {
      "text/plain": [
       ":(Main.println(\"I execute at runtime. The argument is:\") $ Main.arg)"
      ]
     },
     "execution_count": 72,
     "metadata": {},
     "output_type": "execute_result"
    }
   ],
   "source": [
    "ex = macroexpand(Main, :(@twosetp :(1,2,3)))"
   ]
  },
  {
   "cell_type": "code",
   "execution_count": 2,
   "id": "ed3175ef",
   "metadata": {},
   "outputs": [
    {
     "data": {
      "text/plain": [
       "@showarg (macro with 1 method)"
      ]
     },
     "execution_count": 2,
     "metadata": {},
     "output_type": "execute_result"
    }
   ],
   "source": [
    "macro showarg(x)\n",
    "    show(x)\n",
    "end\n"
   ]
  },
  {
   "cell_type": "code",
   "execution_count": 3,
   "id": "7d03d896",
   "metadata": {},
   "outputs": [
    {
     "name": "stdout",
     "output_type": "stream",
     "text": [
      ":a"
     ]
    }
   ],
   "source": [
    "@showarg(a)"
   ]
  },
  {
   "cell_type": "code",
   "execution_count": 4,
   "id": "7aaa3cb8",
   "metadata": {},
   "outputs": [
    {
     "name": "stdout",
     "output_type": "stream",
     "text": [
      ":(1 + 1)"
     ]
    }
   ],
   "source": [
    "@showarg(1+1)"
   ]
  },
  {
   "cell_type": "code",
   "execution_count": 5,
   "id": "e32623c6",
   "metadata": {},
   "outputs": [
    {
     "name": "stdout",
     "output_type": "stream",
     "text": [
      ":(println(\"Yo!\"))"
     ]
    }
   ],
   "source": [
    "@showarg(println(\"Yo!\"))"
   ]
  },
  {
   "cell_type": "code",
   "execution_count": 6,
   "id": "fa6b859c",
   "metadata": {},
   "outputs": [
    {
     "data": {
      "text/plain": [
       ":x"
      ]
     },
     "execution_count": 6,
     "metadata": {},
     "output_type": "execute_result"
    }
   ],
   "source": [
    ":x\n"
   ]
  },
  {
   "cell_type": "code",
   "execution_count": 7,
   "id": "a9997d8b",
   "metadata": {},
   "outputs": [
    {
     "data": {
      "text/plain": [
       "\"x\""
      ]
     },
     "execution_count": 7,
     "metadata": {},
     "output_type": "execute_result"
    }
   ],
   "source": [
    "string(:x)"
   ]
  },
  {
   "cell_type": "code",
   "execution_count": 8,
   "id": "7ec9879f",
   "metadata": {},
   "outputs": [
    {
     "ename": "LoadError",
     "evalue": "syntax: \"$\" expression outside quote around In[8]:1",
     "output_type": "error",
     "traceback": [
      "syntax: \"$\" expression outside quote around In[8]:1",
      "",
      "Stacktrace:",
      " [1] top-level scope",
      "   @ In[8]:1",
      " [2] eval",
      "   @ .\\boot.jl:360 [inlined]",
      " [3] include_string(mapexpr::typeof(REPL.softscope), mod::Module, code::String, filename::String)",
      "   @ Base .\\loading.jl:1094"
     ]
    }
   ],
   "source": [
    "$x\n"
   ]
  },
  {
   "cell_type": "code",
   "execution_count": 10,
   "id": "930e6c81",
   "metadata": {},
   "outputs": [
    {
     "data": {
      "text/plain": [
       "\"x\""
      ]
     },
     "execution_count": 10,
     "metadata": {},
     "output_type": "execute_result"
    }
   ],
   "source": [
    ":($(string(:x)))"
   ]
  },
  {
   "cell_type": "code",
   "execution_count": 11,
   "id": "9f9b36d3",
   "metadata": {},
   "outputs": [
    {
     "data": {
      "text/plain": [
       ":(string(:x))"
      ]
     },
     "execution_count": 11,
     "metadata": {},
     "output_type": "execute_result"
    }
   ],
   "source": [
    ":(string(:x))"
   ]
  },
  {
   "cell_type": "code",
   "execution_count": 12,
   "id": "5df1d46f",
   "metadata": {},
   "outputs": [
    {
     "data": {
      "text/plain": [
       "\"x\""
      ]
     },
     "execution_count": 12,
     "metadata": {},
     "output_type": "execute_result"
    }
   ],
   "source": [
    ":(\"x\")"
   ]
  },
  {
   "cell_type": "code",
   "execution_count": 27,
   "id": "ff14385c",
   "metadata": {},
   "outputs": [
    {
     "data": {
      "text/plain": [
       "@assert (macro with 1 method)"
      ]
     },
     "execution_count": 27,
     "metadata": {},
     "output_type": "execute_result"
    }
   ],
   "source": [
    "macro assert(ex)\n",
    "    return :($ex ? nothing : throw(AssertionError($(string(ex)))))\n",
    "end"
   ]
  },
  {
   "cell_type": "code",
   "execution_count": 21,
   "id": "5e508001",
   "metadata": {},
   "outputs": [],
   "source": [
    "@assert 1 == 1.0"
   ]
  },
  {
   "cell_type": "code",
   "execution_count": 28,
   "id": "ba417657",
   "metadata": {},
   "outputs": [
    {
     "ename": "LoadError",
     "evalue": "AssertionError: 1 == 0",
     "output_type": "error",
     "traceback": [
      "AssertionError: 1 == 0",
      "",
      "Stacktrace:",
      " [1] top-level scope",
      "   @ In[28]:1",
      " [2] eval",
      "   @ .\\boot.jl:360 [inlined]",
      " [3] include_string(mapexpr::typeof(REPL.softscope), mod::Module, code::String, filename::String)",
      "   @ Base .\\loading.jl:1094"
     ]
    }
   ],
   "source": [
    "@assert 1 == 0"
   ]
  },
  {
   "cell_type": "code",
   "execution_count": 29,
   "id": "dc63263c",
   "metadata": {},
   "outputs": [
    {
     "data": {
      "text/plain": [
       "\"1 == 1.0\""
      ]
     },
     "execution_count": 29,
     "metadata": {},
     "output_type": "execute_result"
    }
   ],
   "source": [
    "string(:(1 == 1.0))"
   ]
  },
  {
   "cell_type": "code",
   "execution_count": 30,
   "id": "3db014d8",
   "metadata": {},
   "outputs": [
    {
     "name": "stdout",
     "output_type": "stream",
     "text": [
      "search: \u001b[0m\u001b[1mA\u001b[22m\u001b[0m\u001b[1ms\u001b[22m\u001b[0m\u001b[1ms\u001b[22m\u001b[0m\u001b[1me\u001b[22m\u001b[0m\u001b[1mr\u001b[22m\u001b[0m\u001b[1mt\u001b[22m\u001b[0m\u001b[1mi\u001b[22m\u001b[0m\u001b[1mo\u001b[22m\u001b[0m\u001b[1mn\u001b[22m\u001b[0m\u001b[1mE\u001b[22m\u001b[0m\u001b[1mr\u001b[22m\u001b[0m\u001b[1mr\u001b[22m\u001b[0m\u001b[1mo\u001b[22m\u001b[0m\u001b[1mr\u001b[22m\n",
      "\n"
     ]
    },
    {
     "data": {
      "text/latex": [
       "\\begin{verbatim}\n",
       "AssertionError([msg])\n",
       "\\end{verbatim}\n",
       "The asserted condition did not evaluate to \\texttt{true}. Optional argument \\texttt{msg} is a descriptive error string.\n",
       "\n",
       "\\section{Examples}\n",
       "\\begin{verbatim}\n",
       "julia> @assert false \"this is not true\"\n",
       "ERROR: AssertionError: this is not true\n",
       "\\end{verbatim}\n",
       "\\texttt{AssertionError} is usually thrown from \\href{@ref}{\\texttt{@assert}}.\n",
       "\n"
      ],
      "text/markdown": [
       "```\n",
       "AssertionError([msg])\n",
       "```\n",
       "\n",
       "The asserted condition did not evaluate to `true`. Optional argument `msg` is a descriptive error string.\n",
       "\n",
       "# Examples\n",
       "\n",
       "```jldoctest\n",
       "julia> @assert false \"this is not true\"\n",
       "ERROR: AssertionError: this is not true\n",
       "```\n",
       "\n",
       "`AssertionError` is usually thrown from [`@assert`](@ref).\n"
      ],
      "text/plain": [
       "\u001b[36m  AssertionError([msg])\u001b[39m\n",
       "\n",
       "  The asserted condition did not evaluate to \u001b[36mtrue\u001b[39m. Optional argument \u001b[36mmsg\u001b[39m is a\n",
       "  descriptive error string.\n",
       "\n",
       "\u001b[1m  Examples\u001b[22m\n",
       "\u001b[1m  ≡≡≡≡≡≡≡≡≡≡\u001b[22m\n",
       "\n",
       "\u001b[36m  julia> @assert false \"this is not true\"\u001b[39m\n",
       "\u001b[36m  ERROR: AssertionError: this is not true\u001b[39m\n",
       "\n",
       "  \u001b[36mAssertionError\u001b[39m is usually thrown from \u001b[36m@assert\u001b[39m."
      ]
     },
     "execution_count": 30,
     "metadata": {},
     "output_type": "execute_result"
    }
   ],
   "source": [
    "?AssertionError\n"
   ]
  },
  {
   "cell_type": "code",
   "execution_count": 34,
   "id": "79ac0526",
   "metadata": {},
   "outputs": [
    {
     "ename": "LoadError",
     "evalue": "AssertionError: 1=1.0",
     "output_type": "error",
     "traceback": [
      "AssertionError: 1=1.0",
      "",
      "Stacktrace:",
      " [1] top-level scope",
      "   @ In[34]:1",
      " [2] eval",
      "   @ .\\boot.jl:360 [inlined]",
      " [3] include_string(mapexpr::typeof(REPL.softscope), mod::Module, code::String, filename::String)",
      "   @ Base .\\loading.jl:1094"
     ]
    }
   ],
   "source": [
    "throw(AssertionError(\"1=1.0\"))"
   ]
  },
  {
   "cell_type": "code",
   "execution_count": 27,
   "id": "26024e80",
   "metadata": {},
   "outputs": [
    {
     "name": "stdout",
     "output_type": "stream",
     "text": [
      "Expr\n",
      "  head: Symbol if\n",
      "  args: Array{Any}((3,))\n",
      "    1: Expr\n",
      "      head: Symbol call\n",
      "      args: Array{Any}((3,))\n",
      "        1: Symbol ==\n",
      "        2: Int64 1\n",
      "        3: Float64 10.0\n",
      "    2: Symbol nothing\n",
      "    3: Expr\n",
      "      head: Symbol call\n",
      "      args: Array{Any}((2,))\n",
      "        1: Symbol throw\n",
      "        2: Expr\n",
      "          head: Symbol call\n",
      "          args: Array{Any}((2,))\n",
      "            1: Symbol AssertionError\n",
      "            2: String \"1 == 10.0\"\n"
     ]
    }
   ],
   "source": [
    "ex = :(1 == 10.0)\n",
    "a = string(ex)\n",
    "ex2 = :( $ex ? nothing : throw(AssertionError($(a))) )\n",
    "dump(ex2)"
   ]
  },
  {
   "cell_type": "code",
   "execution_count": 14,
   "id": "d2b14034",
   "metadata": {},
   "outputs": [
    {
     "data": {
      "text/plain": [
       "\"1 == 10\""
      ]
     },
     "execution_count": 14,
     "metadata": {},
     "output_type": "execute_result"
    }
   ],
   "source": [
    "ex = :(1==10)\n",
    "eval(:(string(ex)))"
   ]
  },
  {
   "cell_type": "code",
   "execution_count": 8,
   "id": "f4916721",
   "metadata": {},
   "outputs": [
    {
     "name": "stdout",
     "output_type": "stream",
     "text": [
      "Expr\n",
      "  head: Symbol if\n",
      "  args: Array{Any}((3,))\n",
      "    1: Expr\n",
      "      head: Symbol call\n",
      "      args: Array{Any}((3,))\n",
      "        1: Symbol ==\n",
      "        2: Int64 1\n",
      "        3: Float64 10.0\n",
      "    2: Symbol nothing\n",
      "    3: Expr\n",
      "      head: Symbol call\n",
      "      args: Array{Any}((2,))\n",
      "        1: Symbol throw\n",
      "        2: Expr\n",
      "          head: Symbol call\n",
      "          args: Array{Any}((2,))\n",
      "            1: Symbol AssertionError\n",
      "            2: String \"1 == 10.0\"\n"
     ]
    }
   ],
   "source": []
  },
  {
   "cell_type": "code",
   "execution_count": 31,
   "id": "6c04fca6",
   "metadata": {},
   "outputs": [
    {
     "data": {
      "text/plain": [
       "@assert (macro with 1 method)"
      ]
     },
     "execution_count": 31,
     "metadata": {},
     "output_type": "execute_result"
    }
   ],
   "source": [
    "macro assert(ex, msgs...)\n",
    "    msg_body = isempty(msgs) ? ex : msgs[1]\n",
    "    msg = string(msg_body)\n",
    "    print(\"Parse time:\", msg )\n",
    "    return :($ex ? nothing : throw(AssertionError($msg)))\n",
    "end"
   ]
  },
  {
   "cell_type": "code",
   "execution_count": 32,
   "id": "24d894ff",
   "metadata": {},
   "outputs": [
    {
     "name": "stdout",
     "output_type": "stream",
     "text": [
      "Parse time:a == b"
     ]
    },
    {
     "data": {
      "text/plain": [
       ":(if Main.a == Main.b\n",
       "      Main.nothing\n",
       "  else\n",
       "      Main.throw(Main.AssertionError(\"a == b\"))\n",
       "  end)"
      ]
     },
     "execution_count": 32,
     "metadata": {},
     "output_type": "execute_result"
    }
   ],
   "source": [
    "@macroexpand @assert a == b"
   ]
  },
  {
   "cell_type": "code",
   "execution_count": 33,
   "id": "1061a804",
   "metadata": {},
   "outputs": [
    {
     "name": "stdout",
     "output_type": "stream",
     "text": [
      "Parse time:a should equal b!"
     ]
    },
    {
     "data": {
      "text/plain": [
       ":(if Main.a == Main.b\n",
       "      Main.nothing\n",
       "  else\n",
       "      Main.throw(Main.AssertionError(\"a should equal b!\"))\n",
       "  end)"
      ]
     },
     "execution_count": 33,
     "metadata": {},
     "output_type": "execute_result"
    }
   ],
   "source": [
    "@macroexpand @assert a==b \"a should equal b!\""
   ]
  },
  {
   "cell_type": "code",
   "execution_count": null,
   "id": "720277a0",
   "metadata": {},
   "outputs": [],
   "source": []
  }
 ],
 "metadata": {
  "kernelspec": {
   "display_name": "Julia 1.10.0-beta1",
   "language": "julia",
   "name": "julia-1.10"
  },
  "language_info": {
   "file_extension": ".jl",
   "mimetype": "application/julia",
   "name": "julia",
   "version": "1.10.0-beta1"
  }
 },
 "nbformat": 4,
 "nbformat_minor": 5
}
