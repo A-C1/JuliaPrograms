{
 "cells": [
  {
   "cell_type": "code",
   "execution_count": 1,
   "id": "a71bbda7",
   "metadata": {},
   "outputs": [],
   "source": [
    "struct Foo\n",
    "    bar\n",
    "    baz\n",
    "end"
   ]
  },
  {
   "cell_type": "code",
   "execution_count": 2,
   "id": "391eb0dd",
   "metadata": {},
   "outputs": [
    {
     "data": {
      "text/plain": [
       "Foo(1, 2)"
      ]
     },
     "execution_count": 2,
     "metadata": {},
     "output_type": "execute_result"
    }
   ],
   "source": [
    "foo = Foo(1, 2)"
   ]
  },
  {
   "cell_type": "code",
   "execution_count": 3,
   "id": "dd452a7d",
   "metadata": {},
   "outputs": [
    {
     "data": {
      "text/plain": [
       "1"
      ]
     },
     "execution_count": 3,
     "metadata": {},
     "output_type": "execute_result"
    }
   ],
   "source": [
    "foo.bar"
   ]
  },
  {
   "cell_type": "code",
   "execution_count": 4,
   "id": "02eb1961",
   "metadata": {},
   "outputs": [
    {
     "data": {
      "text/plain": [
       "2"
      ]
     },
     "execution_count": 4,
     "metadata": {},
     "output_type": "execute_result"
    }
   ],
   "source": [
    "foo.baz"
   ]
  },
  {
   "cell_type": "code",
   "execution_count": 5,
   "id": "9cf5a8a4",
   "metadata": {},
   "outputs": [
    {
     "data": {
      "text/plain": [
       "Foo"
      ]
     },
     "execution_count": 5,
     "metadata": {},
     "output_type": "execute_result"
    }
   ],
   "source": [
    "Foo(x) = Foo(x, x)"
   ]
  },
  {
   "cell_type": "code",
   "execution_count": 6,
   "id": "bde0d2be",
   "metadata": {},
   "outputs": [
    {
     "data": {
      "text/plain": [
       "Foo"
      ]
     },
     "execution_count": 6,
     "metadata": {},
     "output_type": "execute_result"
    }
   ],
   "source": [
    "Foo() = Foo(0)"
   ]
  },
  {
   "cell_type": "code",
   "execution_count": 7,
   "id": "ff3e081f",
   "metadata": {},
   "outputs": [
    {
     "data": {
      "text/plain": [
       "Foo(0, 0)"
      ]
     },
     "execution_count": 7,
     "metadata": {},
     "output_type": "execute_result"
    }
   ],
   "source": [
    "Foo()"
   ]
  },
  {
   "cell_type": "code",
   "execution_count": 8,
   "id": "8e54346e",
   "metadata": {},
   "outputs": [],
   "source": [
    "struct OrderedPair\n",
    "    x::Real\n",
    "    y::Real\n",
    "    OrderedPair(x, y) = x > y ? error(\"out of order\") : new(x, y)\n",
    "end"
   ]
  },
  {
   "cell_type": "code",
   "execution_count": 9,
   "id": "8abef2a4",
   "metadata": {},
   "outputs": [
    {
     "data": {
      "text/plain": [
       "OrderedPair(1, 2)"
      ]
     },
     "execution_count": 9,
     "metadata": {},
     "output_type": "execute_result"
    }
   ],
   "source": [
    "OrderedPair(1, 2)"
   ]
  },
  {
   "cell_type": "code",
   "execution_count": 10,
   "id": "2b87a6fa",
   "metadata": {},
   "outputs": [
    {
     "ename": "LoadError",
     "evalue": "out of order",
     "output_type": "error",
     "traceback": [
      "out of order",
      "",
      "Stacktrace:",
      " [1] error(s::String)",
      "   @ Base .\\error.jl:33",
      " [2] OrderedPair(x::Int64, y::Int64)",
      "   @ Main .\\In[8]:4",
      " [3] top-level scope",
      "   @ In[10]:1",
      " [4] eval",
      "   @ .\\boot.jl:360 [inlined]",
      " [5] include_string(mapexpr::typeof(REPL.softscope), mod::Module, code::String, filename::String)",
      "   @ Base .\\loading.jl:1094"
     ]
    }
   ],
   "source": [
    "OrderedPair(2, 1)"
   ]
  },
  {
   "cell_type": "code",
   "execution_count": 11,
   "id": "c3881f7d",
   "metadata": {},
   "outputs": [],
   "source": [
    "struct Foo\n",
    "    bar\n",
    "    baz\n",
    "    Foo(bar, baz) = new(bar, baz)\n",
    "end"
   ]
  },
  {
   "cell_type": "code",
   "execution_count": 12,
   "id": "ae03a841",
   "metadata": {},
   "outputs": [],
   "source": [
    "struct T1\n",
    "    x::Int64\n",
    "end"
   ]
  },
  {
   "cell_type": "code",
   "execution_count": 13,
   "id": "8d8ec33c",
   "metadata": {},
   "outputs": [],
   "source": [
    "struct T2\n",
    "    x::Int64\n",
    "    T2(x) = new(x)\n",
    "end"
   ]
  },
  {
   "cell_type": "code",
   "execution_count": 14,
   "id": "9736e5c9",
   "metadata": {},
   "outputs": [
    {
     "data": {
      "text/plain": [
       "T1(1)"
      ]
     },
     "execution_count": 14,
     "metadata": {},
     "output_type": "execute_result"
    }
   ],
   "source": [
    "T1(1)"
   ]
  },
  {
   "cell_type": "code",
   "execution_count": 15,
   "id": "694feacb",
   "metadata": {},
   "outputs": [
    {
     "data": {
      "text/plain": [
       "T2(1)"
      ]
     },
     "execution_count": 15,
     "metadata": {},
     "output_type": "execute_result"
    }
   ],
   "source": [
    "T2(1)"
   ]
  },
  {
   "cell_type": "code",
   "execution_count": 16,
   "id": "05bf3bc3",
   "metadata": {},
   "outputs": [],
   "source": [
    "mutable struct SelfReferential\n",
    "    obj::SelfReferential\n",
    "    SelfReferential() = (x = new(); x.obj = x)\n",
    "end"
   ]
  },
  {
   "cell_type": "code",
   "execution_count": 17,
   "id": "bf783c6b",
   "metadata": {},
   "outputs": [
    {
     "data": {
      "text/plain": [
       "SelfReferential(SelfReferential(#= circular reference @-1 =#))"
      ]
     },
     "execution_count": 17,
     "metadata": {},
     "output_type": "execute_result"
    }
   ],
   "source": [
    "x = SelfReferential()"
   ]
  },
  {
   "cell_type": "code",
   "execution_count": 18,
   "id": "0278f86c",
   "metadata": {},
   "outputs": [],
   "source": [
    "mutable struct Incomplete\n",
    "    data\n",
    "    Incomplete() = new()\n",
    "end\n"
   ]
  },
  {
   "cell_type": "code",
   "execution_count": 19,
   "id": "3a01568f",
   "metadata": {},
   "outputs": [
    {
     "data": {
      "text/plain": [
       "Incomplete(#undef)"
      ]
     },
     "execution_count": 19,
     "metadata": {},
     "output_type": "execute_result"
    }
   ],
   "source": [
    "z = Incomplete()"
   ]
  },
  {
   "cell_type": "code",
   "execution_count": 20,
   "id": "99ba122e",
   "metadata": {},
   "outputs": [
    {
     "ename": "LoadError",
     "evalue": "UndefRefError: access to undefined reference",
     "output_type": "error",
     "traceback": [
      "UndefRefError: access to undefined reference",
      "",
      "Stacktrace:",
      " [1] getproperty(x::Incomplete, f::Symbol)",
      "   @ Base .\\Base.jl:33",
      " [2] top-level scope",
      "   @ In[20]:1",
      " [3] eval",
      "   @ .\\boot.jl:360 [inlined]",
      " [4] include_string(mapexpr::typeof(REPL.softscope), mod::Module, code::String, filename::String)",
      "   @ Base .\\loading.jl:1094"
     ]
    }
   ],
   "source": [
    "z.data"
   ]
  },
  {
   "cell_type": "code",
   "execution_count": 21,
   "id": "58d166c5",
   "metadata": {},
   "outputs": [],
   "source": [
    "mutable struct Lazy\n",
    "    data\n",
    "    Lazy(v) = complete_me(new(), v)\n",
    "end"
   ]
  },
  {
   "cell_type": "code",
   "execution_count": 22,
   "id": "fc186309",
   "metadata": {},
   "outputs": [
    {
     "ename": "LoadError",
     "evalue": "UndefVarError: complete_me not defined",
     "output_type": "error",
     "traceback": [
      "UndefVarError: complete_me not defined",
      "",
      "Stacktrace:",
      " [1] Lazy(v::Int64)",
      "   @ Main .\\In[21]:3",
      " [2] top-level scope",
      "   @ In[22]:1",
      " [3] eval",
      "   @ .\\boot.jl:360 [inlined]",
      " [4] include_string(mapexpr::typeof(REPL.softscope), mod::Module, code::String, filename::String)",
      "   @ Base .\\loading.jl:1094"
     ]
    }
   ],
   "source": [
    "Lazy(5)"
   ]
  },
  {
   "cell_type": "markdown",
   "id": "8642044e",
   "metadata": {},
   "source": [
    "Parametric Constructors"
   ]
  },
  {
   "cell_type": "code",
   "execution_count": 23,
   "id": "fd53091f",
   "metadata": {},
   "outputs": [],
   "source": [
    "struct Point{T<:Real}\n",
    "    x::T\n",
    "    y::T\n",
    "end"
   ]
  },
  {
   "cell_type": "code",
   "execution_count": 24,
   "id": "d410d7fd",
   "metadata": {},
   "outputs": [
    {
     "data": {
      "text/plain": [
       "Point{Int64}(1, 2)"
      ]
     },
     "execution_count": 24,
     "metadata": {},
     "output_type": "execute_result"
    }
   ],
   "source": [
    "Point(1,2)"
   ]
  },
  {
   "cell_type": "code",
   "execution_count": 25,
   "id": "f7462953",
   "metadata": {},
   "outputs": [
    {
     "data": {
      "text/plain": [
       "Point{Float64}(1.0, 2.5)"
      ]
     },
     "execution_count": 25,
     "metadata": {},
     "output_type": "execute_result"
    }
   ],
   "source": [
    "Point(1.0, 2.5)"
   ]
  },
  {
   "cell_type": "code",
   "execution_count": 27,
   "id": "497cfef9",
   "metadata": {},
   "outputs": [],
   "source": [
    "struct Point{T<:Real}\n",
    "    x::T\n",
    "    y::T\n",
    "    Point{T}(x,y) where {T<:Real} = new(x,y)\n",
    "end"
   ]
  },
  {
   "cell_type": "code",
   "execution_count": 28,
   "id": "a3ea5e55",
   "metadata": {},
   "outputs": [
    {
     "data": {
      "text/plain": [
       "Point"
      ]
     },
     "execution_count": 28,
     "metadata": {},
     "output_type": "execute_result"
    }
   ],
   "source": [
    "Point(x::T, y::T) where {T<:Real} = Point{T}(x,y)"
   ]
  },
  {
   "cell_type": "code",
   "execution_count": 29,
   "id": "ca5ef1b6",
   "metadata": {},
   "outputs": [
    {
     "data": {
      "text/plain": [
       "Point"
      ]
     },
     "execution_count": 29,
     "metadata": {},
     "output_type": "execute_result"
    }
   ],
   "source": [
    "Point(x::Int64, y::Float64) = Point(convert(Float64,x), y)"
   ]
  },
  {
   "cell_type": "code",
   "execution_count": 30,
   "id": "120a3ee3",
   "metadata": {},
   "outputs": [
    {
     "data": {
      "text/plain": [
       "Point{Float64}(1.0, 2.5)"
      ]
     },
     "execution_count": 30,
     "metadata": {},
     "output_type": "execute_result"
    }
   ],
   "source": [
    "p = Point(1, 2.5)"
   ]
  },
  {
   "cell_type": "code",
   "execution_count": 31,
   "id": "81e8a4c0",
   "metadata": {},
   "outputs": [
    {
     "data": {
      "text/plain": [
       "Point"
      ]
     },
     "execution_count": 31,
     "metadata": {},
     "output_type": "execute_result"
    }
   ],
   "source": [
    "Point(x::Real, y::Real) = Point(promote(x, y)...)"
   ]
  },
  {
   "cell_type": "code",
   "execution_count": 32,
   "id": "a38f955c",
   "metadata": {},
   "outputs": [
    {
     "data": {
      "text/plain": [
       "Point{Float64}(1.5, 2.0)"
      ]
     },
     "execution_count": 32,
     "metadata": {},
     "output_type": "execute_result"
    }
   ],
   "source": [
    "Point(1.5, 2)"
   ]
  },
  {
   "cell_type": "code",
   "execution_count": 33,
   "id": "da0dccf9",
   "metadata": {},
   "outputs": [
    {
     "data": {
      "text/plain": [
       "Point{Rational{Int64}}(1//1, 1//2)"
      ]
     },
     "execution_count": 33,
     "metadata": {},
     "output_type": "execute_result"
    }
   ],
   "source": [
    "Point(1, 1//2)"
   ]
  },
  {
   "cell_type": "code",
   "execution_count": 34,
   "id": "41c1f87d",
   "metadata": {},
   "outputs": [
    {
     "data": {
      "text/plain": [
       "Point{Float64}(1.0, 0.5)"
      ]
     },
     "execution_count": 34,
     "metadata": {},
     "output_type": "execute_result"
    }
   ],
   "source": [
    "Point(1.0,1//2)"
   ]
  },
  {
   "cell_type": "code",
   "execution_count": 55,
   "id": "5065b854",
   "metadata": {},
   "outputs": [],
   "source": [
    "mutable struct OurRational{T<:Integer} <: Real\n",
    "    num::T\n",
    "    den::T\n",
    "    function OurRational{T}(num::T, den::T) where T<:Integer\n",
    "        if num == 0 && den == 0\n",
    "            error(\"invalid rational: 0//0\")\n",
    "        end\n",
    "        g = gcd(den, num)\n",
    "        num = div(num, g)\n",
    "        den = div(den, g)\n",
    "        print(new(num, den))\n",
    "        x = new()\n",
    "        x.num = num\n",
    "        x.den = den\n",
    "        return x\n",
    "    end\n",
    "end\n",
    "        "
   ]
  },
  {
   "cell_type": "code",
   "execution_count": 58,
   "id": "b65ca5bd",
   "metadata": {},
   "outputs": [
    {
     "data": {
      "text/plain": [
       "OurRational"
      ]
     },
     "execution_count": 58,
     "metadata": {},
     "output_type": "execute_result"
    }
   ],
   "source": [
    "OurRational(n::T, d::T) where {T<:Integer} = OurRational{T}(n,d) "
   ]
  }
 ],
 "metadata": {
  "kernelspec": {
   "display_name": "Julia 1.8.2",
   "language": "julia",
   "name": "julia-1.8"
  },
  "language_info": {
   "file_extension": ".jl",
   "mimetype": "application/julia",
   "name": "julia",
   "version": "1.8.2"
  }
 },
 "nbformat": 4,
 "nbformat_minor": 5
}
