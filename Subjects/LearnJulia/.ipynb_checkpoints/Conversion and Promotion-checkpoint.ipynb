{
 "cells": [
  {
   "cell_type": "markdown",
   "id": "bd998797",
   "metadata": {},
   "source": [
    "Julia does not have automatic conversion. Mathematical operators are just functions with special syntax, and the arguments of functions are never automatically converted. Applying mathematical operations to a wide variety of mixed argument types is just an extreme case of polymorphic multiple dispatch. Julia comes with pre-defined catch-all dispatch rules for mathematical operators, invoked when no specific implementation exists for some combination of operand types.These catch-all rules first promote all operands to a common type using user-definable promotion rules, and then invoke a specialized implementation of the operator in question for the resulting values, now of the same type. User-defined types can easily participate in this promotion system by defining methods for conversion to and from other types, and providing a handful of promotion rules defining what types they should promote to when mixed with other types."
   ]
  },
  {
   "cell_type": "markdown",
   "id": "6565aaca",
   "metadata": {},
   "source": [
    "# Conversion\n",
    "For conversion to a specific type one needs to use the convert function. Let us say we want to convert a variable of type Float64 to Int64."
   ]
  },
  {
   "cell_type": "code",
   "execution_count": 2,
   "id": "1c55d54c",
   "metadata": {},
   "outputs": [
    {
     "data": {
      "text/plain": [
       "Float64"
      ]
     },
     "execution_count": 2,
     "metadata": {},
     "output_type": "execute_result"
    }
   ],
   "source": [
    "x = 10.0\n",
    "typeof(x)"
   ]
  },
  {
   "cell_type": "code",
   "execution_count": 3,
   "id": "cd1e449d",
   "metadata": {},
   "outputs": [
    {
     "data": {
      "text/plain": [
       "Int64"
      ]
     },
     "execution_count": 3,
     "metadata": {},
     "output_type": "execute_result"
    }
   ],
   "source": [
    "y = convert(Int64, x)\n",
    "typeof(y)"
   ]
  },
  {
   "cell_type": "markdown",
   "id": "2dbac635",
   "metadata": {},
   "source": [
    "Let us look at how one can convert an array to a different type.\n",
    "    "
   ]
  },
  {
   "cell_type": "code",
   "execution_count": 4,
   "id": "509c51f8",
   "metadata": {},
   "outputs": [
    {
     "data": {
      "text/plain": [
       "2×3 Matrix{Any}:\n",
       " 1  2  3\n",
       " 4  5  6"
      ]
     },
     "execution_count": 4,
     "metadata": {},
     "output_type": "execute_result"
    }
   ],
   "source": [
    "A = Any[1 2 3; 4 5 6]"
   ]
  },
  {
   "cell_type": "code",
   "execution_count": 5,
   "id": "d0aaee2d",
   "metadata": {},
   "outputs": [
    {
     "data": {
      "text/plain": [
       "2×3 Matrix{Float64}:\n",
       " 1.0  2.0  3.0\n",
       " 4.0  5.0  6.0"
      ]
     },
     "execution_count": 5,
     "metadata": {},
     "output_type": "execute_result"
    }
   ],
   "source": [
    "B = convert(Array{Float64}, A)"
   ]
  },
  {
   "cell_type": "markdown",
   "id": "50ba08da",
   "metadata": {},
   "source": [
    "## Conversion of userdefined types\n",
    "Consider a struct MyComplex"
   ]
  },
  {
   "cell_type": "code",
   "execution_count": 6,
   "id": "b06bf532",
   "metadata": {},
   "outputs": [],
   "source": [
    "struct MyComplex <: Number\n",
    "    x::Float64   # Real part of number\n",
    "    y::Float64   # Imaginary part of number\n",
    "end"
   ]
  },
  {
   "cell_type": "code",
   "execution_count": 15,
   "id": "fbc1b2b2",
   "metadata": {},
   "outputs": [],
   "source": [
    "Base.convert(::Type{MyComplex}, x::Float64) = MyComplex(x, 0)"
   ]
  },
  {
   "cell_type": "code",
   "execution_count": 16,
   "id": "053b9560",
   "metadata": {},
   "outputs": [
    {
     "data": {
      "text/plain": [
       "MyComplex(5.0, 0.0)"
      ]
     },
     "execution_count": 16,
     "metadata": {},
     "output_type": "execute_result"
    }
   ],
   "source": [
    "convert(MyComplex, 5)"
   ]
  },
  {
   "cell_type": "markdown",
   "id": "e0f07ab2",
   "metadata": {},
   "source": [
    "The type of the first argument of this method is Type{MyComplex}, the only instance of which is MyComplex. Thus, this method is only invoked when the first argument is the type value MyComplex. Notice the syntax used for the first argument: the argument name is omitted prior to the :: symbol, and only the type is given. This is the syntax in Julia for a function argument whose type is specified but whose value does not need to be referenced by name."
   ]
  },
  {
   "cell_type": "markdown",
   "id": "17869fe4",
   "metadata": {},
   "source": [
    "# Promotion\n",
    "Promotion refers to converting values of mixed types to a single common type. Although it is not strictly necessary, it is generally implied that the common type to which the values are converted can faithfully represent all of the original values. In this sense, the term \"promotion\" is appropriate since the values are converted to a \"greater\" type – i.e. one which can represent all of the input values in a single common type.\n",
    "Promotion to a common \"greater\" type is performed in Julia by the promote function, which takes any number of arguments, and returns a tuple of the same number of values, converted to a common type, or throws an exception if promotion is not possible. The most common use case for promotion is to convert numeric arguments to a common type:"
   ]
  },
  {
   "cell_type": "code",
   "execution_count": 17,
   "id": "b27ad72d",
   "metadata": {},
   "outputs": [
    {
     "data": {
      "text/plain": [
       "(1.0, 2.5)"
      ]
     },
     "execution_count": 17,
     "metadata": {},
     "output_type": "execute_result"
    }
   ],
   "source": [
    "promote(1, 2.5)"
   ]
  },
  {
   "cell_type": "code",
   "execution_count": 18,
   "id": "04fb53b1",
   "metadata": {},
   "outputs": [
    {
     "data": {
      "text/plain": [
       "(1.0, 2.5, 3.0, 0.75)"
      ]
     },
     "execution_count": 18,
     "metadata": {},
     "output_type": "execute_result"
    }
   ],
   "source": [
    "promote(1, 2.5, 3, 3//4)"
   ]
  },
  {
   "cell_type": "markdown",
   "id": "9fcc7094",
   "metadata": {},
   "source": [
    "So what is the use of promote? We have defined our own complex type above. Let us try to add a variable of type Float64 to it. Mathematically such an operation makes sense."
   ]
  },
  {
   "cell_type": "code",
   "execution_count": 19,
   "id": "b4ddbacd",
   "metadata": {},
   "outputs": [
    {
     "ename": "LoadError",
     "evalue": "MethodError: no method matching add(::MyComplex, ::Float64)\n\u001b[0mClosest candidates are:\n\u001b[0m  add(::MyComplex, \u001b[91m::MyComplex\u001b[39m) at In[19]:2",
     "output_type": "error",
     "traceback": [
      "MethodError: no method matching add(::MyComplex, ::Float64)\n\u001b[0mClosest candidates are:\n\u001b[0m  add(::MyComplex, \u001b[91m::MyComplex\u001b[39m) at In[19]:2",
      "",
      "Stacktrace:",
      " [1] top-level scope",
      "   @ In[19]:6",
      " [2] eval",
      "   @ .\\boot.jl:368 [inlined]",
      " [3] include_string(mapexpr::typeof(REPL.softscope), mod::Module, code::String, filename::String)",
      "   @ Base .\\loading.jl:1428"
     ]
    }
   ],
   "source": [
    "c = MyComplex(5, 5)\n",
    "function add(c1::MyComplex, c2::MyComplex)\n",
    "    return MyComplex(c1.x+c2.x, c1.y+c2.y)\n",
    "end\n",
    "    \n",
    "y = add(c, 5.0)"
   ]
  },
  {
   "cell_type": "markdown",
   "id": "bce2f26b",
   "metadata": {},
   "source": [
    "We have not defined addition between  the types MyComplex and Float64. We can define such a method. But then we would have to define all the three combinations\n",
    "(MyComplex,Float64) ...\n",
    "Instead we define a promote_rule"
   ]
  },
  {
   "cell_type": "code",
   "execution_count": 25,
   "id": "8fc8c4e6",
   "metadata": {},
   "outputs": [],
   "source": [
    "Base.promote_rule(::Type{Float64}, ::Type{MyComplex}) = MyComplex "
   ]
  },
  {
   "cell_type": "code",
   "execution_count": 26,
   "id": "d6c5a3d8",
   "metadata": {},
   "outputs": [
    {
     "data": {
      "text/plain": [
       "(MyComplex(5.0, 5.0), MyComplex(5.0, 0.0))"
      ]
     },
     "execution_count": 26,
     "metadata": {},
     "output_type": "execute_result"
    }
   ],
   "source": [
    "promote(c, 5.0)"
   ]
  },
  {
   "cell_type": "code",
   "execution_count": null,
   "id": "944fd8f1",
   "metadata": {},
   "outputs": [],
   "source": []
  }
 ],
 "metadata": {
  "kernelspec": {
   "display_name": "Julia 1.8.2",
   "language": "julia",
   "name": "julia-1.8"
  },
  "language_info": {
   "file_extension": ".jl",
   "mimetype": "application/julia",
   "name": "julia",
   "version": "1.8.2"
  }
 },
 "nbformat": 4,
 "nbformat_minor": 5
}
