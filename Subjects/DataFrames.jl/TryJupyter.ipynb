{
 "cells": [
  {
   "cell_type": "code",
   "execution_count": 6,
   "metadata": {},
   "outputs": [],
   "source": [
    "using LinearAlgebra\n",
    "using DataFrames\n",
    "using CSV\n",
    "using Plots\n",
    "using Downloads"
   ]
  },
  {
   "cell_type": "code",
   "execution_count": 7,
   "metadata": {},
   "outputs": [
    {
     "data": {
      "text/plain": [
       "\"participation.csv\""
      ]
     },
     "metadata": {},
     "output_type": "display_data"
    }
   ],
   "source": [
    "Downloads.download(\"https://vincentarelbundock.github.io/Rdatasets/csv/Ecdat/Participation.csv\", \"participation.csv\")"
   ]
  },
  {
   "cell_type": "code",
   "execution_count": 11,
   "metadata": {},
   "outputs": [
    {
     "data": {
      "text/plain": [
       "\"c:\\\\Users\\\\adity\\\\OneDrive - Tata Elxsi\\\\Julia_Programs\\\\Subjects\\\\DataFrames.jl\""
      ]
     },
     "metadata": {},
     "output_type": "display_data"
    }
   ],
   "source": [
    "readlines(\"participation.csv\")"
   ]
  },
  {
   "cell_type": "code",
   "execution_count": 12,
   "metadata": {},
   "outputs": [
    {
     "data": {
      "text/html": [
       "<div><div style = \"float: left;\"><span>872×8 DataFrame</span></div><div style = \"float: right;\"><span style = \"font-style: italic;\">847 rows omitted</span></div><div style = \"clear: both;\"></div></div><div class = \"data-frame\" style = \"overflow-x: scroll;\"><table class = \"data-frame\" style = \"margin-bottom: 6px;\"><thead><tr class = \"header\"><th class = \"rowNumber\" style = \"font-weight: bold; text-align: right;\">Row</th><th style = \"text-align: left;\">Column1</th><th style = \"text-align: left;\">lfp</th><th style = \"text-align: left;\">lnnlinc</th><th style = \"text-align: left;\">age</th><th style = \"text-align: left;\">educ</th><th style = \"text-align: left;\">nyc</th><th style = \"text-align: left;\">noc</th><th style = \"text-align: left;\">foreign</th></tr><tr class = \"subheader headerLastRow\"><th class = \"rowNumber\" style = \"font-weight: bold; text-align: right;\"></th><th title = \"Int64\" style = \"text-align: left;\">Int64</th><th title = \"String3\" style = \"text-align: left;\">String3</th><th title = \"Float64\" style = \"text-align: left;\">Float64</th><th title = \"Float64\" style = \"text-align: left;\">Float64</th><th title = \"Int64\" style = \"text-align: left;\">Int64</th><th title = \"Int64\" style = \"text-align: left;\">Int64</th><th title = \"Int64\" style = \"text-align: left;\">Int64</th><th title = \"String3\" style = \"text-align: left;\">String3</th></tr></thead><tbody><tr><td class = \"rowNumber\" style = \"font-weight: bold; text-align: right;\">1</td><td style = \"text-align: right;\">1</td><td style = \"text-align: left;\">no</td><td style = \"text-align: right;\">10.7875</td><td style = \"text-align: right;\">3.0</td><td style = \"text-align: right;\">8</td><td style = \"text-align: right;\">1</td><td style = \"text-align: right;\">1</td><td style = \"text-align: left;\">no</td></tr><tr><td class = \"rowNumber\" style = \"font-weight: bold; text-align: right;\">2</td><td style = \"text-align: right;\">2</td><td style = \"text-align: left;\">yes</td><td style = \"text-align: right;\">10.5243</td><td style = \"text-align: right;\">4.5</td><td style = \"text-align: right;\">8</td><td style = \"text-align: right;\">0</td><td style = \"text-align: right;\">1</td><td style = \"text-align: left;\">no</td></tr><tr><td class = \"rowNumber\" style = \"font-weight: bold; text-align: right;\">3</td><td style = \"text-align: right;\">3</td><td style = \"text-align: left;\">no</td><td style = \"text-align: right;\">10.9686</td><td style = \"text-align: right;\">4.6</td><td style = \"text-align: right;\">9</td><td style = \"text-align: right;\">0</td><td style = \"text-align: right;\">0</td><td style = \"text-align: left;\">no</td></tr><tr><td class = \"rowNumber\" style = \"font-weight: bold; text-align: right;\">4</td><td style = \"text-align: right;\">4</td><td style = \"text-align: left;\">no</td><td style = \"text-align: right;\">11.105</td><td style = \"text-align: right;\">3.1</td><td style = \"text-align: right;\">11</td><td style = \"text-align: right;\">2</td><td style = \"text-align: right;\">0</td><td style = \"text-align: left;\">no</td></tr><tr><td class = \"rowNumber\" style = \"font-weight: bold; text-align: right;\">5</td><td style = \"text-align: right;\">5</td><td style = \"text-align: left;\">no</td><td style = \"text-align: right;\">11.1085</td><td style = \"text-align: right;\">4.4</td><td style = \"text-align: right;\">12</td><td style = \"text-align: right;\">0</td><td style = \"text-align: right;\">2</td><td style = \"text-align: left;\">no</td></tr><tr><td class = \"rowNumber\" style = \"font-weight: bold; text-align: right;\">6</td><td style = \"text-align: right;\">6</td><td style = \"text-align: left;\">yes</td><td style = \"text-align: right;\">11.0283</td><td style = \"text-align: right;\">4.2</td><td style = \"text-align: right;\">12</td><td style = \"text-align: right;\">0</td><td style = \"text-align: right;\">1</td><td style = \"text-align: left;\">no</td></tr><tr><td class = \"rowNumber\" style = \"font-weight: bold; text-align: right;\">7</td><td style = \"text-align: right;\">7</td><td style = \"text-align: left;\">no</td><td style = \"text-align: right;\">11.4547</td><td style = \"text-align: right;\">5.1</td><td style = \"text-align: right;\">8</td><td style = \"text-align: right;\">0</td><td style = \"text-align: right;\">0</td><td style = \"text-align: left;\">no</td></tr><tr><td class = \"rowNumber\" style = \"font-weight: bold; text-align: right;\">8</td><td style = \"text-align: right;\">8</td><td style = \"text-align: left;\">yes</td><td style = \"text-align: right;\">10.4909</td><td style = \"text-align: right;\">3.2</td><td style = \"text-align: right;\">8</td><td style = \"text-align: right;\">0</td><td style = \"text-align: right;\">2</td><td style = \"text-align: left;\">no</td></tr><tr><td class = \"rowNumber\" style = \"font-weight: bold; text-align: right;\">9</td><td style = \"text-align: right;\">9</td><td style = \"text-align: left;\">no</td><td style = \"text-align: right;\">10.6247</td><td style = \"text-align: right;\">3.9</td><td style = \"text-align: right;\">12</td><td style = \"text-align: right;\">0</td><td style = \"text-align: right;\">0</td><td style = \"text-align: left;\">no</td></tr><tr><td class = \"rowNumber\" style = \"font-weight: bold; text-align: right;\">10</td><td style = \"text-align: right;\">10</td><td style = \"text-align: left;\">no</td><td style = \"text-align: right;\">10.4864</td><td style = \"text-align: right;\">4.3</td><td style = \"text-align: right;\">11</td><td style = \"text-align: right;\">0</td><td style = \"text-align: right;\">2</td><td style = \"text-align: left;\">no</td></tr><tr><td class = \"rowNumber\" style = \"font-weight: bold; text-align: right;\">11</td><td style = \"text-align: right;\">11</td><td style = \"text-align: left;\">no</td><td style = \"text-align: right;\">10.6606</td><td style = \"text-align: right;\">4.5</td><td style = \"text-align: right;\">11</td><td style = \"text-align: right;\">0</td><td style = \"text-align: right;\">2</td><td style = \"text-align: left;\">no</td></tr><tr><td class = \"rowNumber\" style = \"font-weight: bold; text-align: right;\">12</td><td style = \"text-align: right;\">12</td><td style = \"text-align: left;\">no</td><td style = \"text-align: right;\">10.4676</td><td style = \"text-align: right;\">6.0</td><td style = \"text-align: right;\">12</td><td style = \"text-align: right;\">0</td><td style = \"text-align: right;\">0</td><td style = \"text-align: left;\">no</td></tr><tr><td class = \"rowNumber\" style = \"font-weight: bold; text-align: right;\">13</td><td style = \"text-align: right;\">13</td><td style = \"text-align: left;\">no</td><td style = \"text-align: right;\">11.2296</td><td style = \"text-align: right;\">3.3</td><td style = \"text-align: right;\">11</td><td style = \"text-align: right;\">2</td><td style = \"text-align: right;\">0</td><td style = \"text-align: left;\">no</td></tr><tr><td style = \"text-align: right;\">&vellip;</td><td style = \"text-align: right;\">&vellip;</td><td style = \"text-align: right;\">&vellip;</td><td style = \"text-align: right;\">&vellip;</td><td style = \"text-align: right;\">&vellip;</td><td style = \"text-align: right;\">&vellip;</td><td style = \"text-align: right;\">&vellip;</td><td style = \"text-align: right;\">&vellip;</td><td style = \"text-align: right;\">&vellip;</td></tr><tr><td class = \"rowNumber\" style = \"font-weight: bold; text-align: right;\">861</td><td style = \"text-align: right;\">861</td><td style = \"text-align: left;\">yes</td><td style = \"text-align: right;\">10.5289</td><td style = \"text-align: right;\">3.4</td><td style = \"text-align: right;\">9</td><td style = \"text-align: right;\">1</td><td style = \"text-align: right;\">1</td><td style = \"text-align: left;\">yes</td></tr><tr><td class = \"rowNumber\" style = \"font-weight: bold; text-align: right;\">862</td><td style = \"text-align: right;\">862</td><td style = \"text-align: left;\">yes</td><td style = \"text-align: right;\">10.4685</td><td style = \"text-align: right;\">3.3</td><td style = \"text-align: right;\">6</td><td style = \"text-align: right;\">0</td><td style = \"text-align: right;\">2</td><td style = \"text-align: left;\">yes</td></tr><tr><td class = \"rowNumber\" style = \"font-weight: bold; text-align: right;\">863</td><td style = \"text-align: right;\">863</td><td style = \"text-align: left;\">no</td><td style = \"text-align: right;\">11.111</td><td style = \"text-align: right;\">3.5</td><td style = \"text-align: right;\">10</td><td style = \"text-align: right;\">1</td><td style = \"text-align: right;\">1</td><td style = \"text-align: left;\">yes</td></tr><tr><td class = \"rowNumber\" style = \"font-weight: bold; text-align: right;\">864</td><td style = \"text-align: right;\">864</td><td style = \"text-align: left;\">no</td><td style = \"text-align: right;\">10.4714</td><td style = \"text-align: right;\">5.1</td><td style = \"text-align: right;\">9</td><td style = \"text-align: right;\">0</td><td style = \"text-align: right;\">1</td><td style = \"text-align: left;\">yes</td></tr><tr><td class = \"rowNumber\" style = \"font-weight: bold; text-align: right;\">865</td><td style = \"text-align: right;\">865</td><td style = \"text-align: left;\">no</td><td style = \"text-align: right;\">10.1475</td><td style = \"text-align: right;\">4.1</td><td style = \"text-align: right;\">5</td><td style = \"text-align: right;\">1</td><td style = \"text-align: right;\">0</td><td style = \"text-align: left;\">yes</td></tr><tr><td class = \"rowNumber\" style = \"font-weight: bold; text-align: right;\">866</td><td style = \"text-align: right;\">866</td><td style = \"text-align: left;\">yes</td><td style = \"text-align: right;\">10.6932</td><td style = \"text-align: right;\">3.5</td><td style = \"text-align: right;\">9</td><td style = \"text-align: right;\">0</td><td style = \"text-align: right;\">2</td><td style = \"text-align: left;\">yes</td></tr><tr><td class = \"rowNumber\" style = \"font-weight: bold; text-align: right;\">867</td><td style = \"text-align: right;\">867</td><td style = \"text-align: left;\">yes</td><td style = \"text-align: right;\">10.0276</td><td style = \"text-align: right;\">4.2</td><td style = \"text-align: right;\">14</td><td style = \"text-align: right;\">0</td><td style = \"text-align: right;\">0</td><td style = \"text-align: left;\">yes</td></tr><tr><td class = \"rowNumber\" style = \"font-weight: bold; text-align: right;\">868</td><td style = \"text-align: right;\">868</td><td style = \"text-align: left;\">no</td><td style = \"text-align: right;\">10.5974</td><td style = \"text-align: right;\">2.4</td><td style = \"text-align: right;\">4</td><td style = \"text-align: right;\">2</td><td style = \"text-align: right;\">1</td><td style = \"text-align: left;\">yes</td></tr><tr><td class = \"rowNumber\" style = \"font-weight: bold; text-align: right;\">869</td><td style = \"text-align: right;\">869</td><td style = \"text-align: left;\">yes</td><td style = \"text-align: right;\">10.3778</td><td style = \"text-align: right;\">4.8</td><td style = \"text-align: right;\">8</td><td style = \"text-align: right;\">0</td><td style = \"text-align: right;\">0</td><td style = \"text-align: left;\">yes</td></tr><tr><td class = \"rowNumber\" style = \"font-weight: bold; text-align: right;\">870</td><td style = \"text-align: right;\">870</td><td style = \"text-align: left;\">no</td><td style = \"text-align: right;\">10.1337</td><td style = \"text-align: right;\">2.4</td><td style = \"text-align: right;\">6</td><td style = \"text-align: right;\">2</td><td style = \"text-align: right;\">0</td><td style = \"text-align: left;\">yes</td></tr><tr><td class = \"rowNumber\" style = \"font-weight: bold; text-align: right;\">871</td><td style = \"text-align: right;\">871</td><td style = \"text-align: left;\">yes</td><td style = \"text-align: right;\">10.9324</td><td style = \"text-align: right;\">4.1</td><td style = \"text-align: right;\">10</td><td style = \"text-align: right;\">0</td><td style = \"text-align: right;\">1</td><td style = \"text-align: left;\">yes</td></tr><tr><td class = \"rowNumber\" style = \"font-weight: bold; text-align: right;\">872</td><td style = \"text-align: right;\">872</td><td style = \"text-align: left;\">no</td><td style = \"text-align: right;\">11.2207</td><td style = \"text-align: right;\">5.1</td><td style = \"text-align: right;\">10</td><td style = \"text-align: right;\">0</td><td style = \"text-align: right;\">0</td><td style = \"text-align: left;\">yes</td></tr></tbody></table></div>"
      ],
      "text/latex": [
       "\\begin{tabular}{r|cccccccc}\n",
       "\t& Column1 & lfp & lnnlinc & age & educ & nyc & noc & foreign\\\\\n",
       "\t\\hline\n",
       "\t& Int64 & String3 & Float64 & Float64 & Int64 & Int64 & Int64 & String3\\\\\n",
       "\t\\hline\n",
       "\t1 & 1 & no & 10.7875 & 3.0 & 8 & 1 & 1 & no \\\\\n",
       "\t2 & 2 & yes & 10.5243 & 4.5 & 8 & 0 & 1 & no \\\\\n",
       "\t3 & 3 & no & 10.9686 & 4.6 & 9 & 0 & 0 & no \\\\\n",
       "\t4 & 4 & no & 11.105 & 3.1 & 11 & 2 & 0 & no \\\\\n",
       "\t5 & 5 & no & 11.1085 & 4.4 & 12 & 0 & 2 & no \\\\\n",
       "\t6 & 6 & yes & 11.0283 & 4.2 & 12 & 0 & 1 & no \\\\\n",
       "\t7 & 7 & no & 11.4547 & 5.1 & 8 & 0 & 0 & no \\\\\n",
       "\t8 & 8 & yes & 10.4909 & 3.2 & 8 & 0 & 2 & no \\\\\n",
       "\t9 & 9 & no & 10.6247 & 3.9 & 12 & 0 & 0 & no \\\\\n",
       "\t10 & 10 & no & 10.4864 & 4.3 & 11 & 0 & 2 & no \\\\\n",
       "\t11 & 11 & no & 10.6606 & 4.5 & 11 & 0 & 2 & no \\\\\n",
       "\t12 & 12 & no & 10.4676 & 6.0 & 12 & 0 & 0 & no \\\\\n",
       "\t13 & 13 & no & 11.2296 & 3.3 & 11 & 2 & 0 & no \\\\\n",
       "\t14 & 14 & no & 11.9065 & 5.6 & 14 & 0 & 0 & no \\\\\n",
       "\t15 & 15 & no & 11.5016 & 5.6 & 11 & 0 & 0 & no \\\\\n",
       "\t16 & 16 & no & 11.2935 & 4.7 & 11 & 0 & 1 & no \\\\\n",
       "\t17 & 17 & no & 10.8613 & 5.0 & 8 & 0 & 0 & no \\\\\n",
       "\t18 & 18 & yes & 11.844 & 3.9 & 12 & 0 & 0 & no \\\\\n",
       "\t19 & 19 & no & 11.0486 & 4.7 & 8 & 0 & 1 & no \\\\\n",
       "\t20 & 20 & yes & 10.9578 & 5.3 & 11 & 0 & 0 & no \\\\\n",
       "\t21 & 21 & no & 10.8601 & 2.9 & 19 & 0 & 0 & no \\\\\n",
       "\t22 & 22 & yes & 11.1081 & 4.6 & 11 & 0 & 1 & no \\\\\n",
       "\t23 & 23 & no & 10.8486 & 4.4 & 8 & 0 & 2 & no \\\\\n",
       "\t24 & 24 & no & 10.4824 & 2.0 & 12 & 1 & 0 & no \\\\\n",
       "\t$\\dots$ & $\\dots$ & $\\dots$ & $\\dots$ & $\\dots$ & $\\dots$ & $\\dots$ & $\\dots$ & $\\dots$ \\\\\n",
       "\\end{tabular}\n"
      ],
      "text/plain": [
       "\u001b[1m872×8 DataFrame\u001b[0m\n",
       "\u001b[1m Row \u001b[0m│\u001b[1m Column1 \u001b[0m\u001b[1m lfp     \u001b[0m\u001b[1m lnnlinc \u001b[0m\u001b[1m age     \u001b[0m\u001b[1m educ  \u001b[0m\u001b[1m nyc   \u001b[0m\u001b[1m noc   \u001b[0m\u001b[1m foreign \u001b[0m\n",
       "     │\u001b[90m Int64   \u001b[0m\u001b[90m String3 \u001b[0m\u001b[90m Float64 \u001b[0m\u001b[90m Float64 \u001b[0m\u001b[90m Int64 \u001b[0m\u001b[90m Int64 \u001b[0m\u001b[90m Int64 \u001b[0m\u001b[90m String3 \u001b[0m\n",
       "─────┼──────────────────────────────────────────────────────────────────\n",
       "   1 │       1  no       10.7875      3.0      8      1      1  no\n",
       "   2 │       2  yes      10.5243      4.5      8      0      1  no\n",
       "   3 │       3  no       10.9686      4.6      9      0      0  no\n",
       "   4 │       4  no       11.105       3.1     11      2      0  no\n",
       "   5 │       5  no       11.1085      4.4     12      0      2  no\n",
       "   6 │       6  yes      11.0283      4.2     12      0      1  no\n",
       "   7 │       7  no       11.4547      5.1      8      0      0  no\n",
       "   8 │       8  yes      10.4909      3.2      8      0      2  no\n",
       "  ⋮  │    ⋮        ⋮        ⋮        ⋮       ⋮      ⋮      ⋮       ⋮\n",
       " 866 │     866  yes      10.6932      3.5      9      0      2  yes\n",
       " 867 │     867  yes      10.0276      4.2     14      0      0  yes\n",
       " 868 │     868  no       10.5974      2.4      4      2      1  yes\n",
       " 869 │     869  yes      10.3778      4.8      8      0      0  yes\n",
       " 870 │     870  no       10.1337      2.4      6      2      0  yes\n",
       " 871 │     871  yes      10.9324      4.1     10      0      1  yes\n",
       " 872 │     872  no       11.2207      5.1     10      0      0  yes\n",
       "\u001b[36m                                                        857 rows omitted\u001b[0m"
      ]
     },
     "metadata": {},
     "output_type": "display_data"
    }
   ],
   "source": [
    "df_raw = CSV.read(\"participation.csv\", DataFrame)"
   ]
  },
  {
   "cell_type": "code",
   "execution_count": 13,
   "metadata": {},
   "outputs": [
    {
     "data": {
      "text/html": [
       "<div><div style = \"float: left;\"><span>8×7 DataFrame</span></div><div style = \"clear: both;\"></div></div><div class = \"data-frame\" style = \"overflow-x: scroll;\"><table class = \"data-frame\" style = \"margin-bottom: 6px;\"><thead><tr class = \"header\"><th class = \"rowNumber\" style = \"font-weight: bold; text-align: right;\">Row</th><th style = \"text-align: left;\">variable</th><th style = \"text-align: left;\">mean</th><th style = \"text-align: left;\">min</th><th style = \"text-align: left;\">median</th><th style = \"text-align: left;\">max</th><th style = \"text-align: left;\">nmissing</th><th style = \"text-align: left;\">eltype</th></tr><tr class = \"subheader headerLastRow\"><th class = \"rowNumber\" style = \"font-weight: bold; text-align: right;\"></th><th title = \"Symbol\" style = \"text-align: left;\">Symbol</th><th title = \"Union{Nothing, Float64}\" style = \"text-align: left;\">Union…</th><th title = \"Any\" style = \"text-align: left;\">Any</th><th title = \"Union{Nothing, Float64}\" style = \"text-align: left;\">Union…</th><th title = \"Any\" style = \"text-align: left;\">Any</th><th title = \"Int64\" style = \"text-align: left;\">Int64</th><th title = \"DataType\" style = \"text-align: left;\">DataType</th></tr></thead><tbody><tr><td class = \"rowNumber\" style = \"font-weight: bold; text-align: right;\">1</td><td style = \"text-align: left;\">Column1</td><td style = \"text-align: left;\">436.5</td><td style = \"text-align: left;\">1</td><td style = \"text-align: left;\">436.5</td><td style = \"text-align: left;\">872</td><td style = \"text-align: right;\">0</td><td style = \"text-align: left;\">Int64</td></tr><tr><td class = \"rowNumber\" style = \"font-weight: bold; text-align: right;\">2</td><td style = \"text-align: left;\">lfp</td><td style = \"font-style: italic; text-align: left;\"></td><td style = \"text-align: left;\">no</td><td style = \"font-style: italic; text-align: left;\"></td><td style = \"text-align: left;\">yes</td><td style = \"text-align: right;\">0</td><td style = \"text-align: left;\">String3</td></tr><tr><td class = \"rowNumber\" style = \"font-weight: bold; text-align: right;\">3</td><td style = \"text-align: left;\">lnnlinc</td><td style = \"text-align: left;\">10.6856</td><td style = \"text-align: left;\">7.1869</td><td style = \"text-align: left;\">10.6431</td><td style = \"text-align: left;\">12.3757</td><td style = \"text-align: right;\">0</td><td style = \"text-align: left;\">Float64</td></tr><tr><td class = \"rowNumber\" style = \"font-weight: bold; text-align: right;\">4</td><td style = \"text-align: left;\">age</td><td style = \"text-align: left;\">3.99553</td><td style = \"text-align: left;\">2.0</td><td style = \"text-align: left;\">3.9</td><td style = \"text-align: left;\">6.2</td><td style = \"text-align: right;\">0</td><td style = \"text-align: left;\">Float64</td></tr><tr><td class = \"rowNumber\" style = \"font-weight: bold; text-align: right;\">5</td><td style = \"text-align: left;\">educ</td><td style = \"text-align: left;\">9.30734</td><td style = \"text-align: left;\">1</td><td style = \"text-align: left;\">9.0</td><td style = \"text-align: left;\">21</td><td style = \"text-align: right;\">0</td><td style = \"text-align: left;\">Int64</td></tr><tr><td class = \"rowNumber\" style = \"font-weight: bold; text-align: right;\">6</td><td style = \"text-align: left;\">nyc</td><td style = \"text-align: left;\">0.311927</td><td style = \"text-align: left;\">0</td><td style = \"text-align: left;\">0.0</td><td style = \"text-align: left;\">3</td><td style = \"text-align: right;\">0</td><td style = \"text-align: left;\">Int64</td></tr><tr><td class = \"rowNumber\" style = \"font-weight: bold; text-align: right;\">7</td><td style = \"text-align: left;\">noc</td><td style = \"text-align: left;\">0.982798</td><td style = \"text-align: left;\">0</td><td style = \"text-align: left;\">1.0</td><td style = \"text-align: left;\">6</td><td style = \"text-align: right;\">0</td><td style = \"text-align: left;\">Int64</td></tr><tr><td class = \"rowNumber\" style = \"font-weight: bold; text-align: right;\">8</td><td style = \"text-align: left;\">foreign</td><td style = \"font-style: italic; text-align: left;\"></td><td style = \"text-align: left;\">no</td><td style = \"font-style: italic; text-align: left;\"></td><td style = \"text-align: left;\">yes</td><td style = \"text-align: right;\">0</td><td style = \"text-align: left;\">String3</td></tr></tbody></table></div>"
      ],
      "text/latex": [
       "\\begin{tabular}{r|ccccccc}\n",
       "\t& variable & mean & min & median & max & nmissing & eltype\\\\\n",
       "\t\\hline\n",
       "\t& Symbol & Union… & Any & Union… & Any & Int64 & DataType\\\\\n",
       "\t\\hline\n",
       "\t1 & Column1 & 436.5 & 1 & 436.5 & 872 & 0 & Int64 \\\\\n",
       "\t2 & lfp &  & no &  & yes & 0 & String3 \\\\\n",
       "\t3 & lnnlinc & 10.6856 & 7.1869 & 10.6431 & 12.3757 & 0 & Float64 \\\\\n",
       "\t4 & age & 3.99553 & 2.0 & 3.9 & 6.2 & 0 & Float64 \\\\\n",
       "\t5 & educ & 9.30734 & 1 & 9.0 & 21 & 0 & Int64 \\\\\n",
       "\t6 & nyc & 0.311927 & 0 & 0.0 & 3 & 0 & Int64 \\\\\n",
       "\t7 & noc & 0.982798 & 0 & 1.0 & 6 & 0 & Int64 \\\\\n",
       "\t8 & foreign &  & no &  & yes & 0 & String3 \\\\\n",
       "\\end{tabular}\n"
      ],
      "text/plain": [
       "\u001b[1m8×7 DataFrame\u001b[0m\n",
       "\u001b[1m Row \u001b[0m│\u001b[1m variable \u001b[0m\u001b[1m mean     \u001b[0m\u001b[1m min    \u001b[0m\u001b[1m median  \u001b[0m\u001b[1m max     \u001b[0m\u001b[1m nmissing \u001b[0m\u001b[1m eltype   \u001b[0m\n",
       "     │\u001b[90m Symbol   \u001b[0m\u001b[90m Union…   \u001b[0m\u001b[90m Any    \u001b[0m\u001b[90m Union…  \u001b[0m\u001b[90m Any     \u001b[0m\u001b[90m Int64    \u001b[0m\u001b[90m DataType \u001b[0m\n",
       "─────┼──────────────────────────────────────────────────────────────────\n",
       "   1 │ Column1   436.5     1       436.5    872             0  Int64\n",
       "   2 │ lfp      \u001b[90m          \u001b[0m no     \u001b[90m         \u001b[0m yes             0  String3\n",
       "   3 │ lnnlinc   10.6856   7.1869  10.6431  12.3757         0  Float64\n",
       "   4 │ age       3.99553   2.0     3.9      6.2             0  Float64\n",
       "   5 │ educ      9.30734   1       9.0      21              0  Int64\n",
       "   6 │ nyc       0.311927  0       0.0      3               0  Int64\n",
       "   7 │ noc       0.982798  0       1.0      6               0  Int64\n",
       "   8 │ foreign  \u001b[90m          \u001b[0m no     \u001b[90m         \u001b[0m yes             0  String3"
      ]
     },
     "metadata": {},
     "output_type": "display_data"
    }
   ],
   "source": [
    "describe(df_raw)"
   ]
  }
 ],
 "metadata": {
  "kernelspec": {
   "display_name": "Julia 1.8.3",
   "language": "julia",
   "name": "julia-1.8"
  },
  "language_info": {
   "file_extension": ".jl",
   "mimetype": "application/julia",
   "name": "julia",
   "version": "1.8.3"
  },
  "orig_nbformat": 4
 },
 "nbformat": 4,
 "nbformat_minor": 2
}
