{
 "cells": [
  {
   "cell_type": "code",
   "execution_count": 1,
   "id": "acbdce6c",
   "metadata": {},
   "outputs": [
    {
     "name": "stdout",
     "output_type": "stream",
     "text": [
      "tensor([528.])\n",
      "tensor([288.])\n",
      "EOP\n"
     ]
    }
   ],
   "source": [
    "import torch\n",
    "\n",
    "x = torch.tensor([3.0], requires_grad = True)\n",
    "y = torch.tensor([4.0], requires_grad = True)\n",
    "\n",
    "z = (x*x*x + x*x)*y*y\n",
    "\n",
    "external_grad = torch.tensor([1.0])\n",
    "z.backward(gradient = external_grad)\n",
    "\n",
    "print(x.grad)\n",
    "print(y.grad)\n",
    "\n",
    "print(\"EOP\")"
   ]
  },
  {
   "cell_type": "code",
   "execution_count": null,
   "id": "3ccba0cb",
   "metadata": {},
   "outputs": [],
   "source": []
  }
 ],
 "metadata": {
  "kernelspec": {
   "display_name": "Python 3 (ipykernel)",
   "language": "python",
   "name": "python3"
  },
  "language_info": {
   "codemirror_mode": {
    "name": "ipython",
    "version": 3
   },
   "file_extension": ".py",
   "mimetype": "text/x-python",
   "name": "python",
   "nbconvert_exporter": "python",
   "pygments_lexer": "ipython3",
   "version": "3.9.7"
  }
 },
 "nbformat": 4,
 "nbformat_minor": 5
}
