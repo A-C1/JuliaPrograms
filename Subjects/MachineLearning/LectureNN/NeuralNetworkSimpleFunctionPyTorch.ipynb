{
 "cells": [
  {
   "cell_type": "code",
   "execution_count": 306,
   "id": "6e5d3259",
   "metadata": {},
   "outputs": [],
   "source": [
    "# Training Neural Network from Scratch\n",
    "import torch\n",
    "import numpy as np\n",
    "import matplotlib.pyplot as plt"
   ]
  },
  {
   "cell_type": "code",
   "execution_count": 307,
   "id": "8c35aacb",
   "metadata": {},
   "outputs": [
    {
     "data": {
      "image/png": "[encoded data removed]",
      "text/plain": [
       "<Figure size 432x288 with 1 Axes>"
      ]
     },
     "metadata": {
      "needs_background": "light"
     },
     "output_type": "display_data"
    }
   ],
   "source": [
    "# Generate data for training\n",
    "iter = 200\n",
    "\n",
    "# Output\n",
    "y = np.zeros(iter)\n",
    "\n",
    "#Inputs\n",
    "x1 = 2*np.random.rand(iter) - 1\n",
    "\n",
    "def f(x1):\n",
    "    return x1**2 + 1*np.sin(10*x1)\n",
    "\n",
    "for i in range(0,iter):\n",
    "    y[i] = f(x1[i])       # y is the input for calculation of next state\n",
    "\n",
    "plt.scatter(x1, y)\n",
    "x1 = torch.from_numpy(x1)\n",
    "y = torch.from_numpy(y)"
   ]
  },
  {
   "cell_type": "code",
   "execution_count": 308,
   "id": "38404be1",
   "metadata": {},
   "outputs": [
    {
     "data": {
      "text/plain": [
       "tensor([[ 0.2198],\n",
       "        [ 0.0000],\n",
       "        [ 0.0000],\n",
       "        [-0.0308],\n",
       "        [-0.1652],\n",
       "        [ 0.0000],\n",
       "        [ 0.0000],\n",
       "        [-0.5378],\n",
       "        [-0.4730],\n",
       "        [ 0.0000],\n",
       "        [ 0.4755],\n",
       "        [ 0.0000],\n",
       "        [ 0.0000],\n",
       "        [-0.3054],\n",
       "        [-0.5001],\n",
       "        [ 1.0936],\n",
       "        [ 0.0000],\n",
       "        [-0.2091],\n",
       "        [-0.0855],\n",
       "        [-0.7397],\n",
       "        [ 0.0000],\n",
       "        [ 0.1620],\n",
       "        [ 0.0000],\n",
       "        [-0.7399],\n",
       "        [ 0.0000],\n",
       "        [ 0.6000],\n",
       "        [ 0.0000],\n",
       "        [ 0.4269],\n",
       "        [ 0.0000],\n",
       "        [-0.7910],\n",
       "        [ 0.0000],\n",
       "        [ 0.0000],\n",
       "        [ 0.0000],\n",
       "        [ 0.0000],\n",
       "        [ 0.0673],\n",
       "        [ 0.0408],\n",
       "        [-0.7271],\n",
       "        [ 0.2350],\n",
       "        [ 0.0000],\n",
       "        [ 0.0000]])"
      ]
     },
     "execution_count": 308,
     "metadata": {},
     "output_type": "execute_result"
    }
   ],
   "source": [
    "# Initializing the weights and other parametrs of the NN\n",
    "n0 = 1            # No of inputs/input neurons\n",
    "n1 = 40           # no. of Neurons in the first layer\n",
    "n2 = 40           # No. of Neurons in the second layer\n",
    "n3 = 1            # No. of Outputs\n",
    "\n",
    "W1 = 2*torch.rand((n1, n0))-1   # weights between hidden and input layer\n",
    "W2 = 2*torch.rand((n2, n1))-1  # weights between hidden and output layer\n",
    "W3 = 2*torch.rand((n3, n2))-1    # weights between hidden and output layer\n",
    "\n",
    "b1 = 2*torch.rand((n1,1))-1\n",
    "b2 = 2*torch.rand((n2,1))-1\n",
    "b3 = 2*torch.rand((n3,1))-1\n",
    "\n",
    "W1.requires_grad_(True)\n",
    "W2.requires_grad_(True)\n",
    "W3.requires_grad_(True)\n",
    "b1.requires_grad_(True)\n",
    "b2.requires_grad_(True)\n",
    "b3.requires_grad_(True)\n",
    "\n",
    "\n",
    "x = x1[1]\n",
    "# Forward evaluation of Neural Network\n",
    "# Layer 1\n",
    "h1 = W1*x + b1\n",
    "v1 = torch.nn.functional.relu(h1)\n",
    "#Layer 2\n",
    "h2 = torch.matmul(W2,v1) + b2\n",
    "v2 = torch.nn.functional.relu(h2)\n",
    "# Layer 3\n",
    "H = torch.matmul(W3,v2) + b3\n",
    "\n",
    "loss = (H-y[1])**2\n",
    "\n",
    "loss.backward()\n",
    "\n",
    "W1.grad.data.zero_()\n",
    "W2.grad.data.zero_()\n",
    "W3.grad.data.zero_()\n",
    "b1.grad.data.zero_()\n",
    "b2.grad.data.zero_()\n",
    "b3.grad.data.zero_()\n",
    "\n",
    "h1 = W1*x + b1\n",
    "v1 = torch.nn.functional.relu(h1)\n",
    "#Layer 2\n",
    "h2 = torch.matmul(W2,v1) + b2\n",
    "v2 = torch.nn.functional.relu(h2)\n",
    "# Layer 3\n",
    "H = torch.matmul(W3,v2) + b3\n",
    "\n",
    "loss = (H-y[2])**2\n",
    "\n",
    "loss.backward()\n",
    "\n",
    "W1.grad"
   ]
  },
  {
   "cell_type": "code",
   "execution_count": 309,
   "id": "68257d8e",
   "metadata": {},
   "outputs": [],
   "source": [
    "# Training the network\n",
    "lr = 0.001      # learning rate\n",
    "epoch = 1000    # no. of epochsen\n",
    "p = 1          # p is the index of each epoch\n",
    "\n",
    "\n",
    "while ( p <= epoch ):\n",
    "    for j in range(0,iter):   # j is the index of each pattern\n",
    "        x = x1[j]\n",
    "        # Forward evaluation of Neural Network\n",
    "        # Layer 1\n",
    "        h1 = W1*x + b1\n",
    "        v1 = torch.nn.functional.relu(h1)\n",
    "        #Layer 2\n",
    "        h2 = torch.matmul(W2,v1) + b2\n",
    "        v2 = torch.nn.functional.relu(h2)\n",
    "        # Layer 3\n",
    "        H = torch.matmul(W3,v2) + b3\n",
    "       \n",
    "        loss = (H-y[j])**2\n",
    "        \n",
    "        loss.backward()\n",
    "        \n",
    "    \n",
    "        # Updating gradient functions\n",
    "        W1.data -= lr*W1.grad.data\n",
    "        W2.data -= lr*W2.grad.data\n",
    "        W3.data -= lr*W3.grad.data\n",
    "        b1.data -= lr*b1.grad.data\n",
    "        b2.data -= lr*b2.grad.data\n",
    "        b3.data -= lr*b3.grad.data\n",
    "        \n",
    "        W1.grad.data.zero_()\n",
    "        W2.grad.data.zero_()\n",
    "        W3.grad.data.zero_()\n",
    "        b1.grad.data.zero_()\n",
    "        b2.grad.data.zero_()\n",
    "        b3.grad.data.zero_()\n",
    "\n",
    "    p=p+1\n",
    "\n",
    "    "
   ]
  },
  {
   "cell_type": "code",
   "execution_count": 310,
   "id": "1dd76526",
   "metadata": {},
   "outputs": [
    {
     "data": {
      "text/plain": [
       "[<matplotlib.lines.Line2D at 0x1b7a3551820>]"
      ]
     },
     "execution_count": 310,
     "metadata": {},
     "output_type": "execute_result"
    },
    {
     "data": {
      "image/png": "[encoded data removed]",
      "text/plain": [
       "<Figure size 432x288 with 1 Axes>"
      ]
     },
     "metadata": {
      "needs_background": "light"
     },
     "output_type": "display_data"
    }
   ],
   "source": [
    "# plot actual test data\n",
    "\n",
    "iter_t = 200                          # No. of test data set\n",
    "y = np.zeros(iter_t)\n",
    "u = np.zeros(iter_t)\n",
    "\n",
    "for i in range(0,iter_t):\n",
    "    if i <= 500:\n",
    "        u[i] = np.sin( 2*np.pi*i/250)                     # Test Input Data\n",
    "    else:\n",
    "        u[i] = 0.8*np.sin(2*np.pi*i/250) + 0.2*np.sin(2*np.pi*i/25)\n",
    "\n",
    "    y[i] = f(u[i])    # y is the input for calculation of next state\n",
    "\n",
    "x = np.zeros(iter_t)\n",
    "for i in range(0,iter_t):                             # Storing inputs in x for convinience\n",
    "    x[i] = u[i]\n",
    "\n",
    "plt.plot(y[0:iter_t])"
   ]
  },
  {
   "cell_type": "code",
   "execution_count": 311,
   "id": "0a3d5fe8",
   "metadata": {},
   "outputs": [
    {
     "name": "stdout",
     "output_type": "stream",
     "text": [
      "tensor([[ 0.8289],\n",
      "        [-0.5921],\n",
      "        [-0.1947],\n",
      "        [-0.0946],\n",
      "        [ 0.4455],\n",
      "        [ 0.1866],\n",
      "        [-0.6843],\n",
      "        [-0.4784],\n",
      "        [ 0.5674],\n",
      "        [-0.5370],\n",
      "        [-0.1583],\n",
      "        [-0.8873],\n",
      "        [-0.8355],\n",
      "        [ 1.1998],\n",
      "        [ 0.5872],\n",
      "        [ 0.9890],\n",
      "        [-0.7921],\n",
      "        [ 0.4214],\n",
      "        [ 0.9476],\n",
      "        [ 1.0756],\n",
      "        [-0.3352],\n",
      "        [-0.3979],\n",
      "        [-0.4871],\n",
      "        [ 0.7426],\n",
      "        [-0.7748],\n",
      "        [ 0.4742],\n",
      "        [-0.4407],\n",
      "        [ 0.6523],\n",
      "        [-0.4287],\n",
      "        [-0.3763],\n",
      "        [-0.9797],\n",
      "        [ 0.4127],\n",
      "        [-0.7231],\n",
      "        [-0.7842],\n",
      "        [-0.2475],\n",
      "        [ 0.2179],\n",
      "        [ 0.1852],\n",
      "        [ 0.0849],\n",
      "        [ 0.2181],\n",
      "        [-0.9798]], requires_grad=True)\n"
     ]
    },
    {
     "data": {
      "text/plain": [
       "[<matplotlib.lines.Line2D at 0x1b7a35c31f0>]"
      ]
     },
     "execution_count": 311,
     "metadata": {},
     "output_type": "execute_result"
    },
    {
     "data": {
      "image/png": "[encoded data removed]",
      "text/plain": [
       "<Figure size 432x288 with 1 Axes>"
      ]
     },
     "metadata": {
      "needs_background": "light"
     },
     "output_type": "display_data"
    }
   ],
   "source": [
    "# Plot using Neural Network\n",
    "x1 = torch.from_numpy(x)\n",
    "y_act = torch.from_numpy(y)\n",
    "\n",
    "for j in range(0,iter_t-2):\n",
    "    h1 = W1*x1[j] + b1\n",
    "    v1 = torch.nn.functional.relu(h1)\n",
    "    #Layer 2\n",
    "    h2 = torch.matmul(W2,v1) + b2\n",
    "    v2 = torch.nn.functional.relu(h2)\n",
    "    # Layer 3\n",
    "    H = torch.matmul(W3,v2) + b3\n",
    "    #Storing Values\n",
    "    y_act[j] = H\n",
    "    \n",
    "print(b1)\n",
    "plt.plot(y_act.detach().numpy()[:-2])"
   ]
  },
  {
   "cell_type": "code",
   "execution_count": null,
   "id": "28b21965",
   "metadata": {},
   "outputs": [],
   "source": []
  }
 ],
 "metadata": {
  "kernelspec": {
   "display_name": "Python 3 (ipykernel)",
   "language": "python",
   "name": "python3"
  },
  "language_info": {
   "codemirror_mode": {
    "name": "ipython",
    "version": 3
   },
   "file_extension": ".py",
   "mimetype": "text/x-python",
   "name": "python",
   "nbconvert_exporter": "python",
   "pygments_lexer": "ipython3",
   "version": "3.9.7"
  }
 },
 "nbformat": 4,
 "nbformat_minor": 5
}
