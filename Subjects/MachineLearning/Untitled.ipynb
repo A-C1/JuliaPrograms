{
 "cells": [
  {
   "cell_type": "code",
   "execution_count": 15,
   "id": "4b6f9960",
   "metadata": {},
   "outputs": [],
   "source": [
    "using Flux\n",
    "using Flux: train!"
   ]
  },
  {
   "cell_type": "code",
   "execution_count": 8,
   "id": "0e888038",
   "metadata": {},
   "outputs": [
    {
     "data": {
      "text/plain": [
       "actual (generic function with 1 method)"
      ]
     },
     "execution_count": 8,
     "metadata": {},
     "output_type": "execute_result"
    }
   ],
   "source": [
    "actual(x) = 4x + 2"
   ]
  },
  {
   "cell_type": "code",
   "execution_count": 20,
   "id": "a4b6c147",
   "metadata": {},
   "outputs": [
    {
     "data": {
      "text/plain": [
       "1-element Vector{Tuple{Matrix{Int64}, Matrix{Int64}}}:\n",
       " ([0 1 … 4 5], [2 6 … 18 22])"
      ]
     },
     "execution_count": 20,
     "metadata": {},
     "output_type": "execute_result"
    }
   ],
   "source": [
    "xtrain, xtest = hcat(0:5...), hcat(6:10...)\n",
    "ytrain, ytest = actual.(xtrain), actual.(xtest)\n",
    "\n",
    "data = [(xtrain, ytrain)]"
   ]
  },
  {
   "cell_type": "code",
   "execution_count": 28,
   "id": "e5881e2a",
   "metadata": {},
   "outputs": [
    {
     "ename": "LoadError",
     "evalue": "UndefVarError: x not defined",
     "output_type": "error",
     "traceback": [
      "UndefVarError: x not defined",
      "",
      "Stacktrace:",
      " [1] _pullback(::Zygote.Context, ::var\"#1#2\")",
      "   @ Zygote C:\\Users\\Aditya\\.julia\\packages\\Zygote\\mlVso\\src\\compiler\\interface2.jl:9",
      " [2] pullback(f::Function, ps::Zygote.Params)",
      "   @ Zygote C:\\Users\\Aditya\\.julia\\packages\\Zygote\\mlVso\\src\\compiler\\interface.jl:343",
      " [3] gradient(f::Function, args::Zygote.Params)",
      "   @ Zygote C:\\Users\\Aditya\\.julia\\packages\\Zygote\\mlVso\\src\\compiler\\interface.jl:75",
      " [4] top-level scope",
      "   @ In[28]:8",
      " [5] eval",
      "   @ .\\boot.jl:360 [inlined]",
      " [6] include_string(mapexpr::typeof(REPL.softscope), mod::Module, code::String, filename::String)",
      "   @ Base .\\loading.jl:1094"
     ]
    }
   ],
   "source": [
    "predict = Dense(1, 1) # Structure which is callable\n",
    "parameters = params(predict)\n",
    "# loss(x,y) = Flux.Losses.mse(predict(x), y) # loss per iteration\n",
    "function loss(x, y)\n",
    "    yhat = predict(x) \n",
    "    sum((y .-y).^2)\n",
    "end\n",
    "gs = gradient(()->loss(x,y), parameters)"
   ]
  },
  {
   "cell_type": "code",
   "execution_count": 27,
   "id": "912535e4",
   "metadata": {},
   "outputs": [
    {
     "data": {
      "text/plain": [
       "0"
      ]
     },
     "execution_count": 27,
     "metadata": {},
     "output_type": "execute_result"
    }
   ],
   "source": [
    "for epoch in 1:200\n",
    "    train!(loss, parameters, data, opt)\n",
    "end\n",
    "\n",
    "loss(xtrain, ytrain)"
   ]
  }
 ],
 "metadata": {
  "kernelspec": {
   "display_name": "Julia 1.6.1",
   "language": "julia",
   "name": "julia-1.6"
  },
  "language_info": {
   "file_extension": ".jl",
   "mimetype": "application/julia",
   "name": "julia",
   "version": "1.6.1"
  }
 },
 "nbformat": 4,
 "nbformat_minor": 5
}
