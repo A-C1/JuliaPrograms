{
 "cells": [
  {
   "cell_type": "code",
   "execution_count": 7,
   "metadata": {
    "ExecuteTime": {
     "end_time": "2018-04-28T20:13:34.079666Z",
     "start_time": "2018-04-28T20:13:34.076790Z"
    }
   },
   "outputs": [],
   "source": [
    "from simulink import Dynamics\n",
    "import numpy as np\n",
    "import matplotlib.pyplot as plt"
   ]
  },
  {
   "cell_type": "code",
   "execution_count": 4,
   "metadata": {
    "ExecuteTime": {
     "end_time": "2018-04-28T19:23:30.054894Z",
     "start_time": "2018-04-28T19:23:30.049533Z"
    }
   },
   "outputs": [],
   "source": [
    "class SimpleFollower(Dynamics):\n",
    "\n",
    "    \"\"\"Docstring for Simple. \"\"\"\n",
    "\n",
    "    def __init__(self, init_state):\n",
    "        \"\"\"TODO: to be defined1. \"\"\"\n",
    "        Dynamics.__init__(self, init_state)\n",
    "\n",
    "    def input_sys(self):\n",
    "        xn = self.current_state  # Markovian Systems this info sufficient\n",
    "        xo = self.observed_state\n",
    "        u = np.arctan2(xo[1]-xn[1], xo[0]-xn[0])\n",
    "        return u\n",
    "\n",
    "    def dynamics(self, x, t, u):\n",
    "        x1 = np.cos(u)\n",
    "        y1 = np.sin(u)\n",
    "        f_x = np.array([x1, y1])\n",
    "        return f"
   ]
  },
  {
   "cell_type": "code",
   "execution_count": null,
   "metadata": {},
   "outputs": [],
   "source": []
  }
 ],
 "metadata": {
  "kernelspec": {
   "display_name": "Python 3",
   "language": "python",
   "name": "python3"
  },
  "language_info": {
   "codemirror_mode": {
    "name": "ipython",
    "version": 3
   },
   "file_extension": ".py",
   "mimetype": "text/x-python",
   "name": "python",
   "nbconvert_exporter": "python",
   "pygments_lexer": "ipython3",
   "version": "3.5.2"
  },
  "varInspector": {
   "cols": {
    "lenName": 16,
    "lenType": 16,
    "lenVar": 40
   },
   "kernels_config": {
    "python": {
     "delete_cmd_postfix": "",
     "delete_cmd_prefix": "del ",
     "library": "var_list.py",
     "varRefreshCmd": "print(var_dic_list())"
    },
    "r": {
     "delete_cmd_postfix": ") ",
     "delete_cmd_prefix": "rm(",
     "library": "var_list.r",
     "varRefreshCmd": "cat(var_dic_list()) "
    }
   },
   "position": {
    "height": "157px",
    "left": "302px",
    "right": "20px",
    "top": "120px",
    "width": "350px"
   },
   "types_to_exclude": [
    "module",
    "function",
    "builtin_function_or_method",
    "instance",
    "_Feature"
   ],
   "window_display": false
  }
 },
 "nbformat": 4,
 "nbformat_minor": 2
}
