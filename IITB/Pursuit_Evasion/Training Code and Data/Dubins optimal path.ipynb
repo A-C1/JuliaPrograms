{
 "cells": [
  {
   "cell_type": "code",
   "execution_count": 1,
   "metadata": {},
   "outputs": [
    {
     "data": {
      "text/plain": [
       "\"D:\\\\Julia\\\\data\\\\geek.csv\""
      ]
     },
     "execution_count": 1,
     "metadata": {},
     "output_type": "execute_result"
    }
   ],
   "source": [
    "# a 2d array of random numbers\n",
    "using CSV, DataFrames\n",
    "numbers = rand(5, 5)\n",
    " \n",
    "# using write method\n",
    "CSV.write(\"D:\\\\Julia\\\\data\\\\geek.csv\", DataFrame(numbers, :auto),\n",
    "                         header = false, append = true)"
   ]
  },
  {
   "cell_type": "code",
   "execution_count": 2,
   "metadata": {},
   "outputs": [
    {
     "data": {
      "text/plain": [
       "true"
      ]
     },
     "execution_count": 2,
     "metadata": {},
     "output_type": "execute_result"
    }
   ],
   "source": [
    "using JuMP\n",
    "import Ipopt\n",
    "import Plots\n",
    "\n",
    "dubinsCar = Model(Ipopt.Optimizer)\n",
    "set_silent(dubinsCar)"
   ]
  },
  {
   "cell_type": "code",
   "execution_count": 3,
   "metadata": {},
   "outputs": [
    {
     "data": {
      "text/plain": [
       "100"
      ]
     },
     "execution_count": 3,
     "metadata": {},
     "output_type": "execute_result"
    }
   ],
   "source": [
    "x_0 = 0\n",
    "y_0 = 0\n",
    "v_all = 1\n",
    "a_0 = 0 # a is angle\n",
    "\n",
    "\n",
    "# target location, can change this\n",
    "x_f = 1\n",
    "#println(typeof(x_f))\n",
    "y_f = 2\n",
    "time = sqrt((x_f-x_0)^2 + (y_f-y_0)^2)/v_all\n",
    "n = Int64(floor(max(100,10*time)))"
   ]
  },
  {
   "cell_type": "code",
   "execution_count": 4,
   "metadata": {},
   "outputs": [],
   "source": [
    "@variables(dubinsCar, begin\n",
    "    Δt ≥ 0.5*pi/n, (start = 1/100) # Time step\n",
    "    #n ≥ 1\n",
    "    # State variables\n",
    "    v_all ≤ v[1:n] ≤ v_all        # speed\n",
    "    x[1:n] #≥ h_0         # x\n",
    "    y[1:n]\n",
    "    a[1:n]\n",
    "    # Control variables\n",
    "    #-1 ≤ u[1:n] ≤ 1    # Thrust\n",
    "    \n",
    "end)"
   ]
  },
  {
   "cell_type": "code",
   "execution_count": 37,
   "metadata": {},
   "outputs": [],
   "source": [
    "unregister(dubinsCar, :Δt)\n",
    "unregister(dubinsCar, :n)\n",
    "unregister(dubinsCar, :v)\n",
    "unregister(dubinsCar, :x)\n",
    "unregister(dubinsCar, :y)\n",
    "unregister(dubinsCar, :u)\n",
    "unregister(dubinsCar, :a)"
   ]
  },
  {
   "cell_type": "code",
   "execution_count": 39,
   "metadata": {},
   "outputs": [
    {
     "data": {
      "text/latex": [
       "$$ Δt $$"
      ],
      "text/plain": [
       "Δt"
      ]
     },
     "execution_count": 39,
     "metadata": {},
     "output_type": "execute_result"
    }
   ],
   "source": [
    "@objective(dubinsCar, Min, Δt)"
   ]
  },
  {
   "cell_type": "code",
   "execution_count": 40,
   "metadata": {},
   "outputs": [],
   "source": [
    "fix(x[1], x_0; force = true)\n",
    "fix(y[1], y_0; force = true)\n",
    "fix(a[1], a_0; force = true)\n",
    "fix(x[n], x_f; force = true)\n",
    "fix(y[n], y_f; force = true)"
   ]
  },
  {
   "cell_type": "code",
   "execution_count": 41,
   "metadata": {},
   "outputs": [],
   "source": [
    "for j in 2:n\n",
    "    # a' = vu\n",
    "    # Rect\n",
    "    @NLconstraint(dubinsCar, a[j] == a[j - 1] + Δt * v[j - 1]*(u[j-1]))\n",
    "    # x' = vcos(a)\n",
    "    # Rectangular integration\n",
    "    @NLconstraint(dubinsCar, x[j] == x[j - 1] + Δt * v[j - 1]*cos(a[j-1]))\n",
    "    # m' = -T/c\n",
    "    # Rectangular integration\n",
    "    # @NLconstraint(rocket, m[j] == m[j - 1] - Δt * T[j - 1] / c)\n",
    "    # Trapezoidal integration\n",
    "    @NLconstraint(dubinsCar, y[j] == y[j - 1] + Δt * v[j - 1]*sin(a[j-1]))\n",
    "end"
   ]
  },
  {
   "cell_type": "code",
   "execution_count": null,
   "metadata": {},
   "outputs": [],
   "source": [
    "println(\"Solving...\")\n",
    "optimize!(dubinsCar)\n",
    "solution_summary(dubinsCar)"
   ]
  },
  {
   "cell_type": "code",
   "execution_count": 35,
   "metadata": {},
   "outputs": [
    {
     "data": {
      "image/png": "[encoded data removed]"
     },
     "execution_count": 35,
     "metadata": {},
     "output_type": "execute_result"
    }
   ],
   "source": [
    "Plots.plot(value.(x),value.(y),fmt=:png, legend = false, aspect_ratio = 1)\n"
   ]
  },
  {
   "cell_type": "code",
   "execution_count": null,
   "metadata": {},
   "outputs": [],
   "source": [
    "z = hcat(value.(x),value.(y))"
   ]
  },
  {
   "cell_type": "code",
   "execution_count": null,
   "metadata": {},
   "outputs": [],
   "source": [
    "termination_status(dubinsCar) == temp"
   ]
  },
  {
   "cell_type": "code",
   "execution_count": null,
   "metadata": {},
   "outputs": [],
   "source": [
    "temp = termination_status(dubinsCar)"
   ]
  },
  {
   "cell_type": "code",
   "execution_count": null,
   "metadata": {},
   "outputs": [],
   "source": [
    "i=2\n",
    "while i<3\n",
    "    println(i)\n",
    "    i+=1\n",
    "end"
   ]
  },
  {
   "cell_type": "code",
   "execution_count": null,
   "metadata": {},
   "outputs": [],
   "source": [
    "using JuMP\n",
    "import Ipopt\n",
    "import Plots\n",
    "\n",
    "dubinsCar = Model(Ipopt.Optimizer)\n",
    "set_silent(dubinsCar)\n",
    "\n",
    "while true\n",
    "    x_0 = 0\n",
    "    y_0 = 0\n",
    "    v_all = 1\n",
    "    a_0 = 0 # a is angle\n",
    "    x_f = (rand(1)[1]-0.5)*6\n",
    "    \n",
    "    y_f = (rand(1)[1]-0.5)*6\n",
    "    time = sqrt((x_f-x_0)^2 + (y_f-y_0)^2)/v_all\n",
    "    n = Int64(max(100,10*time))\n",
    "    \n",
    "    # unregister vars\n",
    "    \n",
    "    unregister(dubinsCar, :Δt)\n",
    "    unregister(dubinsCar, :n)\n",
    "    unregister(dubinsCar, :v)\n",
    "    unregister(dubinsCar, :x)\n",
    "    unregister(dubinsCar, :y)\n",
    "    unregister(dubinsCar, :u)\n",
    "    unregister(dubinsCar, :a)\n",
    "    @variables(dubinsCar, begin\n",
    "        Δt ≥ 1*pi/n, (start = 1/100) # Time step\n",
    "        #n ≥ 1\n",
    "        # State variables\n",
    "        v_all ≤ v[1:n] ≤ v_all        # speed\n",
    "        x[1:n] #≥ h_0         # x\n",
    "        y[1:n]\n",
    "        a[1:n]\n",
    "        # Control variables\n",
    "        -1 ≤ u[1:n] ≤ 1    # Thrust\n",
    "    end)\n",
    "    \n",
    "    @objective(dubinsCar, Min, Δt)\n",
    "    \n",
    "    fix(x[1], x_0; force = true)\n",
    "    fix(y[1], y_0; force = true)\n",
    "    fix(a[1], a_0; force = true)\n",
    "    fix(x[n], x_f; force = true)\n",
    "    fix(y[n], y_f; force = true)\n",
    "    for j in 2:n\n",
    "        # a' = vu\n",
    "        # Rect\n",
    "        @NLconstraint(dubinsCar, a[j] == a[j - 1] + Δt * v[j - 1]*u[j-1])\n",
    "        # x' = vcos(a)\n",
    "        # Rectangular integration\n",
    "        @NLconstraint(dubinsCar, x[j] == x[j - 1] + Δt * v[j - 1]*cos(a[j-1]))\n",
    "        # Rectangular integration\n",
    "        # @NLconstraint(rocket, m[j] == m[j - 1] - Δt * T[j - 1] / c)\n",
    "        # Trapezoidal integration\n",
    "        @NLconstraint(dubinsCar, y[j] == y[j - 1] + Δt * v[j - 1]*sin(a[j-1]))\n",
    "    end\n",
    "    \n",
    "    # SOLVING\n",
    "    \n",
    "    \n",
    "    optimize!(dubinsCar)\n",
    "    #solution_summary(dubinsCar)\n",
    "    \n",
    "    if termination_status(dubinsCar) != temp\n",
    "        println(\"Solving...\")\n",
    "        x_fin = ones(n)*x_f\n",
    "        y_fin = ones(n)*y_f\n",
    "        matrix = hcat(x_fin,y_fin,value.(x),value.(y),value.(a),value.(u))\n",
    "        CSV.write(\"D:\\\\Julia\\\\data\\\\dubinsData.csv\", DataFrame(matrix, :auto),\n",
    "                         header = false, append = true)\n",
    "    end\n",
    "end"
   ]
  },
  {
   "cell_type": "code",
   "execution_count": null,
   "metadata": {},
   "outputs": [],
   "source": [
    "ones(3)*3.4"
   ]
  }
 ],
 "metadata": {
  "kernelspec": {
   "display_name": "Julia 1.6.3",
   "language": "julia",
   "name": "julia-1.6"
  },
  "language_info": {
   "file_extension": ".jl",
   "mimetype": "application/julia",
   "name": "julia",
   "version": "1.6.2"
  }
 },
 "nbformat": 4,
 "nbformat_minor": 4
}
