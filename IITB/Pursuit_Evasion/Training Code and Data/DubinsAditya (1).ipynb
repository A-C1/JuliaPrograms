{
 "cells": [
  {
   "cell_type": "code",
   "execution_count": 1,
   "id": "f5caac3e",
   "metadata": {},
   "outputs": [
    {
     "name": "stdout",
     "output_type": "stream",
     "text": [
      "Solving...\n",
      "\n",
      "******************************************************************************\n",
      "This program contains Ipopt, a library for large-scale nonlinear optimization.\n",
      " Ipopt is released as open source code under the Eclipse Public License (EPL).\n",
      "         For more information visit https://github.com/coin-or/Ipopt\n",
      "******************************************************************************\n",
      "\n",
      "This is Ipopt version 3.13.4, running with linear solver mumps.\n",
      "NOTE: Other linear solvers might be more efficient (see Ipopt documentation).\n",
      "\n",
      "Number of nonzeros in equality constraint Jacobian...:     2978\n",
      "Number of nonzeros in inequality constraint Jacobian.:        0\n",
      "Number of nonzeros in Lagrangian Hessian.............:     3576\n",
      "\n",
      "Total number of variables............................:      796\n",
      "                     variables with only lower bounds:        0\n",
      "                variables with lower and upper bounds:      201\n",
      "                     variables with only upper bounds:        0\n",
      "Total number of equality constraints.................:      597\n",
      "Total number of inequality constraints...............:        0\n",
      "        inequality constraints with only lower bounds:        0\n",
      "   inequality constraints with lower and upper bounds:        0\n",
      "        inequality constraints with only upper bounds:        0\n",
      "\n",
      "iter    objective    inf_pr   inf_du lg(mu)  ||d||  lg(rg) alpha_du alpha_pr  ls\n",
      "   0  2.8741581e-02 5.00e-01 2.89e-15  -1.0 0.00e+00    -  0.00e+00 0.00e+00   0\n",
      "   1  2.8278996e-02 4.91e-01 8.47e+01  -1.7 4.97e-01    -  8.73e-01 1.76e-02h  1\n",
      "   2  2.8274371e-02 4.91e-01 3.83e+05  -1.7 4.89e-01    -  7.96e-01 1.80e-04h  1\n",
      "   3  2.8274341e-02 4.92e-01 4.04e+05  -1.7 3.86e+03    -  2.73e-04 2.73e-04h  1\n",
      "   4  2.8274338e-02 4.88e-01 5.72e+06  -1.7 4.25e+00   2.0 4.79e-01 9.44e-03h  1\n",
      "   5  2.8274338e-02 4.45e-01 1.81e+06  -1.7 3.98e+00   1.5 9.94e-01 9.02e-02h  1\n",
      "   6  2.8274337e-02 4.08e-01 2.31e+06  -1.7 2.17e+00   1.9 9.00e-01 8.38e-02h  1\n",
      "   7  2.8274338e-02 3.56e-01 2.46e+05  -1.7 2.37e+00   1.5 6.41e-01 1.28e-01h  1\n",
      "   8  2.8274339e-02 3.36e-01 9.36e+04  -1.7 1.86e+00   1.9 1.00e+00 5.58e-02h  1\n",
      "   9  2.8274347e-02 2.90e-01 4.17e+05  -1.7 2.22e+00   1.4 5.81e-01 1.41e-01h  1\n",
      "iter    objective    inf_pr   inf_du lg(mu)  ||d||  lg(rg) alpha_du alpha_pr  ls\n",
      "  10  2.8274756e-02 2.71e-01 3.71e+05  -1.7 2.95e+00   0.9 1.30e-02 6.68e-02h  1\n",
      "  11  2.8464696e-02 2.62e-01 3.41e+05  -1.7 8.17e+00   0.5 7.91e-05 3.24e-02h  1\n",
      "  12  2.8495261e-02 2.62e-01 3.40e+05  -1.7 2.22e+00   1.8 1.00e+00 3.34e-03h  1\n",
      "  13  3.5078679e-02 2.61e-01 3.51e+05  -1.7 2.66e+02   1.3 1.13e-04 3.40e-03f  1\n",
      "  14  3.5320760e-02 2.56e-01 3.46e+05  -1.7 2.26e+00   1.7 4.35e-01 1.59e-02h  1\n",
      "  15  3.6606138e-02 2.56e-01 3.45e+05  -1.7 8.41e+01   1.3 1.02e-03 2.01e-03f  3\n",
      "  16  3.7627650e-02 2.41e-01 3.23e+05  -1.7 1.99e+00   1.7 1.34e-01 6.07e-02h  1\n",
      "  17  3.7893088e-02 2.35e-01 3.16e+05  -1.7 1.85e+00   2.1 9.37e-02 2.22e-02h  1\n",
      "  18  3.9063119e-02 2.21e-01 2.96e+05  -1.7 1.97e+00   1.6 2.97e-02 6.11e-02h  1\n",
      "  19  3.9241621e-02 2.18e-01 2.92e+05  -1.7 1.78e+00   2.1 7.70e-02 1.43e-02h  1\n",
      "iter    objective    inf_pr   inf_du lg(mu)  ||d||  lg(rg) alpha_du alpha_pr  ls\n",
      "  20  4.0552993e-02 2.04e-01 2.74e+05  -1.7 1.77e+00   1.6 8.36e-03 6.35e-02h  1\n",
      "  21  4.0658920e-02 2.02e-01 2.72e+05  -1.7 1.60e+00   2.0 9.19e-02 8.48e-03h  1\n",
      "  22  4.2796138e-02 1.83e-01 2.47e+05  -1.7 1.87e+00   1.5 4.04e-03 9.69e-02f  1\n",
      "  23  4.2864754e-02 1.82e-01 2.46e+05  -1.7 1.21e+00   2.0 5.90e-02 5.80e-03h  1\n",
      "  24  4.5588549e-02 1.59e-01 2.18e+05  -1.7 1.74e+00   1.5 6.63e-02 1.25e-01f  1\n",
      "  25  4.6443998e-02 1.46e-01 2.00e+05  -1.7 7.78e-01   1.9 2.09e-01 8.39e-02h  1\n",
      "  26  5.1235276e-02 1.06e-01 1.58e+05  -1.7 1.24e+00   1.4 8.04e-02 2.82e-01h  1\n",
      "  27  5.4701007e-02 3.94e-02 6.71e+04  -1.7 2.83e-01   1.9 5.18e-01 6.26e-01h  1\n",
      "  28  5.6507222e-02 3.29e-04 3.99e+03  -1.7 1.08e-01   1.4 7.24e-01 1.00e+00f  1\n",
      "  29  5.6502213e-02 2.94e-06 2.03e+01  -1.7 2.24e-01   0.9 9.13e-01 1.00e+00f  1\n",
      "iter    objective    inf_pr   inf_du lg(mu)  ||d||  lg(rg) alpha_du alpha_pr  ls\n",
      "  30  5.6934184e-02 7.66e-05 7.22e+00  -1.7 2.08e-01   0.4 9.32e-01 1.00e+00f  1\n",
      "  31  5.8714160e-02 4.08e-04 9.71e+00  -1.7 2.45e-01  -0.0 8.12e-01 1.00e+00f  1\n",
      "  32  6.0905258e-02 4.10e-04 1.06e+01  -1.7 2.37e-01  -0.5 1.00e+00 1.00e+00f  1\n",
      "  33  6.4612943e-02 7.48e-04 3.91e+00  -1.7 2.91e-01  -1.0 1.00e+00 1.00e+00f  1\n",
      "  34  6.9253253e-02 1.10e-03 7.98e+00  -1.7 3.84e-01  -1.5 1.00e+00 1.00e+00f  1\n",
      "  35  7.4942542e-02 4.25e-03 5.68e+00  -1.7 5.76e-01  -2.0 1.00e+00 9.22e-01f  1\n",
      "  36  7.2306198e-02 1.29e-02 2.32e+00  -1.7 1.07e+00  -2.4 1.00e+00 1.00e+00f  1\n",
      "  37  7.0269972e-02 3.89e-02 1.98e+01  -1.7 2.86e+01    -  1.33e-01 1.15e-01f  2\n",
      "  38  7.4952710e-02 2.79e-02 1.05e+01  -1.7 4.51e-01  -2.9 1.00e+00 2.80e-01h  1\n",
      "  39  7.1757424e-02 4.72e-02 2.93e+00  -1.7 4.35e+00  -3.4 1.00e+00 1.00e+00f  1\n",
      "iter    objective    inf_pr   inf_du lg(mu)  ||d||  lg(rg) alpha_du alpha_pr  ls\n",
      "  40  7.4967584e-02 1.32e-02 1.13e+00  -1.7 1.47e+00  -3.9 1.00e+00 7.20e-01h  1\n",
      "  41  7.3764177e-02 1.97e-02 4.08e+00  -1.7 3.68e+00    -  1.00e+00 1.00e+00h  1\n",
      "  42  7.3873944e-02 2.64e-04 1.90e-02  -1.7 7.85e-01    -  1.00e+00 1.00e+00h  1\n",
      "  43  7.3813249e-02 7.41e-07 8.03e-01  -3.8 2.33e-02    -  9.56e-01 1.00e+00h  1\n",
      "  44  3.7560911e-02 8.93e-03 3.77e-01  -3.8 2.51e+00    -  9.74e-01 1.00e+00f  1\n",
      "  45  4.6423609e-02 2.07e-03 3.60e-02  -3.8 7.44e-01    -  8.26e-01 1.00e+00h  1\n",
      "  46  4.5362111e-02 5.28e-05 1.85e-04  -3.8 2.18e-01    -  1.00e+00 1.00e+00h  1\n",
      "  47  3.6587979e-02 2.11e-03 3.38e-02  -5.7 7.18e-01    -  7.80e-01 1.00e+00h  1\n",
      "  48  3.2956723e-02 1.51e-03 9.79e-03  -5.7 4.79e-01    -  8.03e-01 1.00e+00h  1\n",
      "  49  3.1791928e-02 5.78e-04 2.10e-03  -5.7 5.03e-01    -  1.00e+00 1.00e+00h  1\n",
      "iter    objective    inf_pr   inf_du lg(mu)  ||d||  lg(rg) alpha_du alpha_pr  ls\n",
      "  50  3.1638529e-02 6.68e-05 1.20e-04  -5.7 5.12e-01    -  1.00e+00 1.00e+00h  1\n",
      "  51  3.1639660e-02 1.19e-07 1.43e-07  -5.7 9.39e-02    -  1.00e+00 1.00e+00h  1\n",
      "  52  3.1296850e-02 1.05e-04 7.20e-05  -8.6 3.44e-01    -  8.02e-01 1.00e+00h  1\n",
      "  53  3.1287641e-02 1.52e-05 5.49e-06  -8.6 4.70e-01    -  7.46e-01 8.69e-01h  1\n",
      "  54  3.1285998e-02 2.67e-07 3.18e-06  -8.6 2.56e-01    -  9.10e-01 1.00e+00h  1\n",
      "  55  3.1285965e-02 2.44e-10 3.76e-10  -8.6 8.91e-03    -  1.00e+00 1.00e+00h  1\n",
      "\n",
      "Number of Iterations....: 55\n",
      "\n",
      "                                   (scaled)                 (unscaled)\n",
      "Objective...............:   3.1285965308278374e-02    3.1285965308278374e-02\n",
      "Dual infeasibility......:   3.7627403812078812e-10    3.7627403812078812e-10\n",
      "Constraint violation....:   2.4437318835168753e-10    2.4437318835168753e-10\n",
      "Complementarity.........:   2.5458590818091455e-09    2.5458590818091455e-09\n",
      "Overall NLP error.......:   2.5458590818091455e-09    2.5458590818091455e-09\n",
      "\n",
      "\n",
      "Number of objective function evaluations             = 64\n",
      "Number of objective gradient evaluations             = 56\n",
      "Number of equality constraint evaluations            = 64\n",
      "Number of inequality constraint evaluations          = 0\n",
      "Number of equality constraint Jacobian evaluations   = 56\n",
      "Number of inequality constraint Jacobian evaluations = 0\n",
      "Number of Lagrangian Hessian evaluations             = 55\n",
      "Total CPU secs in IPOPT (w/o function evaluations)   =      1.643\n",
      "Total CPU secs in NLP function evaluations           =      2.159\n",
      "\n",
      "EXIT: Optimal Solution Found.\n",
      "Min time: 6.257193061655675\n"
     ]
    }
   ],
   "source": [
    "using JuMP\n",
    "import Ipopt\n",
    "import Plots\n",
    "\n",
    "# Create JuMP model, using Ipopt as the solver\n",
    "user_options = (\n",
    "    # \"mu_strategy\" => \"monotone\",\n",
    "    # \"linear_solver\" => \"ma27\",\n",
    ")\n",
    "dubins = Model(optimizer_with_attributes(Ipopt.Optimizer,user_options...))\n",
    "#set_silent(dubins)\n",
    "\n",
    "# Constants\n",
    "um = 1.0        # Maximum thrust\n",
    "vm = 1.0\n",
    "\n",
    "x_f = 0.5\n",
    "y_f = 0.5\n",
    "\n",
    "n = 200    # Time steps\n",
    "tmin = (2*pi*0.9)/vm\n",
    "tmax = 15\n",
    "# Decision variables\n",
    "\n",
    "@variables(dubins, begin\n",
    "    (tmin)/n <= Δt <= (tmax)/n  # Time step\n",
    "    ## State variables\n",
    "    x[1:n]            # Velocity\n",
    "    y[1:n]            # Height\n",
    "    th[1:n]           # Height\n",
    "    ## Control variables\n",
    "    -um ≤ u[1:n] ≤ um    # Thrust\n",
    "   # 0 ≤ v[1:n] ≤ vm \n",
    "end)\n",
    "\n",
    "# Objective\n",
    "@objective(dubins, Min, Δt)\n",
    "\n",
    "## Initial conditions\n",
    "fix(x[1], 0; force = true)\n",
    "fix(y[1], 0; force = true)\n",
    "fix(th[1], 0; force = true)\n",
    "\n",
    "## Final conditions\n",
    "fix(x[n], x_f; force = true)\n",
    "fix(y[n], y_f; force = true)\n",
    "# fix(th[n], pi/2; force = true)\n",
    "\n",
    "\n",
    "## Dynamics\n",
    "\n",
    "for j in 2:n\n",
    "    @NLconstraint(dubins, x[j] == x[j - 1] + Δt *0.5* vm*(cos(th[j - 1])+cos(th[j])))\n",
    "    ## Trapezoidal integration\n",
    "    @NLconstraint(dubins, y[j] == y[j - 1] + Δt *0.5* vm*(sin(th[j - 1])+sin(th[j])))\n",
    "    ## Trapezoidal integration\n",
    "    @NLconstraint(dubins, th[j] == th[j - 1] + 0.5*Δt *vm* (u[j]+u[j-1]))\n",
    "    ## Trapezoidal integration\n",
    "end\n",
    "\n",
    "# Solve for the control and state\n",
    "println(\"Solving...\")\n",
    "optimize!(dubins)\n",
    "solution_summary(dubins)\n",
    "\n",
    "# ## Display results\n",
    "\n",
    "println(\"Min time: \", objective_value(dubins)*n)\n"
   ]
  },
  {
   "cell_type": "code",
   "execution_count": 2,
   "id": "d2657488",
   "metadata": {},
   "outputs": [
    {
     "data": {
      "image/png": "[encoded data removed]"
     },
     "execution_count": 2,
     "metadata": {},
     "output_type": "execute_result"
    }
   ],
   "source": [
    "fig = Plots.plot(value.(x), value.(y),fmt=:png, legend = false, aspect_ratio = 1, framestyle = :box, arrow = true)\n"
   ]
  },
  {
   "cell_type": "code",
   "execution_count": 27,
   "id": "26feff48",
   "metadata": {},
   "outputs": [],
   "source": [
    "# x_arrow, y_arrow = 0:0.2/199:0.2, zeros(200)\n",
    "# Plots.plot([x_arrow value.(x)],[y_arrow value.(y)],fmt=:png, legend = false, aspect_ratio = 1, framestyle = :box, arrow = true)\n",
    "\n",
    "Plots.savefig(fig,\"5comma5.pdf\")"
   ]
  },
  {
   "cell_type": "code",
   "execution_count": 10,
   "id": "6a08d959",
   "metadata": {},
   "outputs": [
    {
     "name": "stdout",
     "output_type": "stream",
     "text": [
      "[-0.9996560567327127, -0.9998117011868887, -0.9997686769618244, -0.9997038082817135, -0.9995953382933217, -0.9993784545275753, -0.9987319383179643, 0.1378970889623685, 0.998757795592007, 0.9993834054072999, 0.9995981153371571, 0.999705741672368, 0.9997701410952446, 0.9998128616943149, 0.999843185110766, 0.9998657638708904, 0.9998831860829153, 0.9998970055238376, 0.9999082110498032, 0.9999174617032368, 0.9999252134611918, 0.9999317917260954, 0.9999374348474763, 0.999942321335023, 0.9999465874720939, 0.9999503390598848, 0.999953659453211, 0.9999566151851499, 0.9999592599839402, 0.9999616376935618, 0.999963784431626, 0.9999657302070417, 0.9999675001487578, 0.9999691154503366, 0.9999705941040815, 0.9999719514773739, 0.9999732007693509, 0.9999743533758824, 0.999975419183587, 0.9999764068084424, 0.9999773237907654, 0.9999781767555719, 0.9999789715452564, 0.9999797133299955, 0.9999804067001012, 0.9999810557436652, 0.9999816641121436, 0.9999822350760055, 0.9999827715721473, 0.9999832762444562, 0.9999837514786424, 0.9999841994322596, 0.9999846220606662, 0.9999850211395503, 0.9999853982845343, 0.9999857549682878, 0.9999860925355095, 0.9999864122160771, 0.9999867151366206, 0.9999870023307335, 0.9999872747480022, 0.9999875332620106, 0.9999877786774496, 0.9999880117364465, 0.9999882331242105, 0.9999884434740777, 0.9999886433720275, 0.9999888333607347, 0.9999890139432084, 0.9999891855860665, 0.9999893487224885, 0.9999895037548773, 0.9999896510572681, 0.9999897909775061, 0.9999899238392198, 0.9999900499436121, 0.9999901695710852, 0.9999902829827183, 0.9999903904216114, 0.999990492114109, 0.9999905882709144, 0.9999906790881055, 0.9999907647480615, 0.9999908454203069, 0.999990921262283, 0.9999909924200493, 0.9999910590289256, 0.9999911212140746, 0.9999911790910343, 0.9999912327662007, 0.9999912823372669, 0.9999913278936203, 0.9999913695167024, 0.9999914072803316, 0.9999914412509937, 0.9999914714881, 0.9999914980442167, 0.999991520965266, 0.9999915402906995, 0.999991556053648, 0.9999915682810451, 0.9999915769937275, 0.9999915822065134, 0.9999915839282565, 0.999991582161879, 0.9999915769043829, 0.9999915681468383, 0.9999915558743507, 0.9999915400660055, 0.9999915206947908, 0.9999914977274957, 0.9999914711245866, 0.9999914408400575, 0.9999914068212562, 0.9999913690086819, 0.9999913273357568, 0.999991281728567, 0.9999912321055713, 0.9999911783772784, 0.9999911204458862, 0.9999910582048847, 0.9999909915386159, 0.9999909203217905, 0.9999908444189551, 0.9999907636839085, 0.9999906779590594, 0.9999905870747238, 0.9999904908483525, 0.9999903890836864, 0.9999902815698286, 0.9999901680802274, 0.9999900483715605, 0.99998992218251, 0.9999897892324171, 0.9999896492198023, 0.9999895018207384, 0.9999893466870581, 0.9999891834443768, 0.9999890116899132, 0.9999888309900771, 0.9999886408778034, 0.9999884408495964, 0.9999882303622507, 0.9999880088292062, 0.9999877756164921, 0.9999875300382028, 0.9999872713514465, 0.9999869987506906, 0.9999867113614241, 0.9999864082330361, 0.9999860883308, 0.9999857505268293, 0.9999853935898501, 0.9999850161736094, 0.9999846168037028, 0.9999841938625679, 0.9999837455723406, 0.9999832699752174, 0.9999827649108879, 0.9999822279905268, 0.999981656566716, 0.9999810476985441, 0.9999803981109634, 0.9999797041472773, 0.9999789617133761, 0.9999781662120097, 0.9999773124649725, 0.9999763946205374, 0.9999754060427948, 0.9999743391786492, 0.9999731853970591, 0.9999719347935507, 0.9999705759509693, 0.9999690956446454, 0.9999674784763659, 0.9999657064163271, 0.9999637582249978, 0.9999616087166003, 0.9999592278113179, 0.9999565793021651, 0.9999536192312517, 0.9999502937233584, 0.9999465360531474, 0.9999422626104436, 0.999937367249005, 0.9999317132100731, 0.9999251213142161, 0.999917352243808, 0.9999080791544415, 0.9998968438436324, 0.9998829836847165, 0.9998655037387786, 0.9998428392069246, 0.999812380243546, 0.9997694262981226, 0.9997045711445812, 0.9995958546174869, 0.9993773540360942, 0.9987192479807736, 0.9947281535226471]"
     ]
    }
   ],
   "source": [
    "print(value.(u))"
   ]
  },
  {
   "cell_type": "code",
   "execution_count": 14,
   "id": "cb1fc67f",
   "metadata": {},
   "outputs": [
    {
     "data": {
      "text/plain": [
       "\"D:\\\\Julia\\\\data\\\\dubinsData.csv\""
      ]
     },
     "execution_count": 14,
     "metadata": {},
     "output_type": "execute_result"
    }
   ],
   "source": [
    "using CSV, DataFrames\n",
    "x_fin = ones(n)*x_f\n",
    "y_fin = ones(n)*y_f\n",
    "matrix = hcat(x_fin,y_fin,value.(x),value.(y),value.(th),value.(u))\n",
    "CSV.write(\"D:\\\\Julia\\\\data\\\\dubinsData.csv\", DataFrame(matrix, :auto),\n",
    "                         header = false, append = true)"
   ]
  },
  {
   "cell_type": "code",
   "execution_count": null,
   "id": "6f609b53",
   "metadata": {},
   "outputs": [],
   "source": []
  }
 ],
 "metadata": {
  "kernelspec": {
   "display_name": "Julia 1.6.3",
   "language": "julia",
   "name": "julia-1.6"
  },
  "language_info": {
   "file_extension": ".jl",
   "mimetype": "application/julia",
   "name": "julia",
   "version": "1.6.2"
  }
 },
 "nbformat": 4,
 "nbformat_minor": 5
}
